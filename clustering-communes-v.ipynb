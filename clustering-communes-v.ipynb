{
 "cells": [
  {
   "cell_type": "code",
   "execution_count": null,
   "metadata": {},
   "outputs": [],
   "source": []
  },
  {
   "cell_type": "markdown",
   "metadata": {},
   "source": [
    "L'objectif de ce notebook est de regrouper les communes selons leurs catactéristiques socio économiques afin de constater si des groupes distincts peuvent être formés\n",
    "\n",
    "Les critères de clustering sont:\n",
    "* Immobilier:\n",
    "> - Prix / m2\n",
    "> - surfaces médianes\n",
    "> - Tx evolution du prix / 10 ans\n",
    "> - Nb de transactions\n",
    "> - Tx de vacance locative\n",
    "> - Tx de nouveaux logements x ans\n",
    "\n",
    "* Démographie:\n",
    "> - Densité population\n",
    "> - Tx évolution population\n",
    "> - Indicateur de jeuness: taux de population < x ans \n",
    "\n",
    "* Revenus:\n",
    "> - Nombre de ménages fiscaux\n",
    "> - Part de ménages fiscaux / total ménages\n",
    "> - Part des ménages fiscaux imposés \n",
    "> - Médiane du revenu disponible (par unité de consommation)\n",
    "> - Taux de pauvreté\n",
    "\n",
    "* Emploi\n",
    "> - Emploi total (salarié et non salarié) au lieu de travail \n",
    "> - Tx emploi (salarié et non salarié) sur le lieu de travail\n",
    "> - part de l'emploi salarié au lieu de travail\n",
    "> - Tx variation de l'emploi sur le lieu de travail\n",
    "> - Taux d'activité\n",
    "> - Taux de chômage\n",
    "> - *sur le lieu de travail: Inclut tous les travailleurs exerçant leur activité dans une zone donnée, qu'ils y résident ou non.\n",
    "\n",
    "Établissements:"
   ]
  },
  {
   "cell_type": "code",
   "execution_count": 138,
   "metadata": {},
   "outputs": [],
   "source": [
    "import pandas as pd\n",
    "import numpy as np\n",
    "import matplotlib.pyplot as plt\n",
    "import plotly.express as px\n",
    "import seaborn as sns\n",
    "from sklearn.cluster import KMeans, MiniBatchKMeans, DBSCAN\n",
    "from sklearn.manifold import LocallyLinearEmbedding, Isomap, TSNE\n",
    "from sklearn.model_selection import GridSearchCV\n",
    "from sklearn.metrics import make_scorer, silhouette_score\n",
    "from sklearn.decomposition import PCA\n",
    "from sklearn.cluster import KMeans\n",
    "import altair as alt\n",
    "import umap\n",
    "import time"
   ]
  },
  {
   "cell_type": "code",
   "execution_count": 139,
   "metadata": {},
   "outputs": [],
   "source": [
    "# df_sirene=pd.read_csv(\"../data/processed/sirene/idf/sirene_idf_duree_observation.csv\")\n",
    "# display(df_sirene.head())\n",
    "# _agg={\"duree_observation_etab\": (\"duree_observation_etab\", \"mean\")}\n",
    "# df_sirene[df_sirene[\"annee_observation_etab\"].between(2011, 2015)].groupby(\"codeCommuneEtablissement\").agg(**_agg)"
   ]
  },
  {
   "cell_type": "code",
   "execution_count": 140,
   "metadata": {},
   "outputs": [
    {
     "name": "stderr",
     "output_type": "stream",
     "text": [
      "/tmp/ipykernel_196593/682350367.py:7: DtypeWarning: Columns (4) have mixed types. Specify dtype option on import or set low_memory=False.\n",
      "  df_population_age=pd.read_csv(\"../data/referentiels/population-age-2020.csv\", dtype={\"Région\":str, \"Département\": str, \"Commune\": str})\n"
     ]
    },
    {
     "name": "stdout",
     "output_type": "stream",
     "text": [
      "info df_statas_communes:\n"
     ]
    },
    {
     "data": {
      "text/html": [
       "<div>\n",
       "<style scoped>\n",
       "    .dataframe tbody tr th:only-of-type {\n",
       "        vertical-align: middle;\n",
       "    }\n",
       "\n",
       "    .dataframe tbody tr th {\n",
       "        vertical-align: top;\n",
       "    }\n",
       "\n",
       "    .dataframe thead th {\n",
       "        text-align: right;\n",
       "    }\n",
       "</style>\n",
       "<table border=\"1\" class=\"dataframe\">\n",
       "  <thead>\n",
       "    <tr style=\"text-align: right;\">\n",
       "      <th></th>\n",
       "      <th>CODGEO</th>\n",
       "      <th>P21_POP</th>\n",
       "      <th>P15_POP</th>\n",
       "      <th>SUPERF</th>\n",
       "      <th>NAIS1520</th>\n",
       "      <th>DECE1520</th>\n",
       "      <th>P21_MEN</th>\n",
       "      <th>NAISD22</th>\n",
       "      <th>DECESD22</th>\n",
       "      <th>P21_LOG</th>\n",
       "      <th>...</th>\n",
       "      <th>P21_ACT1564</th>\n",
       "      <th>ETTOT21</th>\n",
       "      <th>ETAZ21</th>\n",
       "      <th>ETBE21</th>\n",
       "      <th>ETFZ21</th>\n",
       "      <th>ETGU21</th>\n",
       "      <th>ETGZ21</th>\n",
       "      <th>ETOQ21</th>\n",
       "      <th>ETTEF121</th>\n",
       "      <th>ETTEFP1021</th>\n",
       "    </tr>\n",
       "  </thead>\n",
       "  <tbody>\n",
       "    <tr>\n",
       "      <th>0</th>\n",
       "      <td>01001</td>\n",
       "      <td>832.0</td>\n",
       "      <td>767.0</td>\n",
       "      <td>15.95</td>\n",
       "      <td>52.0</td>\n",
       "      <td>33.0</td>\n",
       "      <td>341.234562</td>\n",
       "      <td>8.0</td>\n",
       "      <td>5.0</td>\n",
       "      <td>372.387494</td>\n",
       "      <td>...</td>\n",
       "      <td>417.591741</td>\n",
       "      <td>15.0</td>\n",
       "      <td>4.0</td>\n",
       "      <td>0.0</td>\n",
       "      <td>3.0</td>\n",
       "      <td>6.0</td>\n",
       "      <td>1.0</td>\n",
       "      <td>2.0</td>\n",
       "      <td>13.0</td>\n",
       "      <td>2.0</td>\n",
       "    </tr>\n",
       "    <tr>\n",
       "      <th>1</th>\n",
       "      <td>01002</td>\n",
       "      <td>267.0</td>\n",
       "      <td>241.0</td>\n",
       "      <td>9.15</td>\n",
       "      <td>18.0</td>\n",
       "      <td>8.0</td>\n",
       "      <td>115.722510</td>\n",
       "      <td>4.0</td>\n",
       "      <td>1.0</td>\n",
       "      <td>174.938672</td>\n",
       "      <td>...</td>\n",
       "      <td>130.225119</td>\n",
       "      <td>4.0</td>\n",
       "      <td>1.0</td>\n",
       "      <td>0.0</td>\n",
       "      <td>0.0</td>\n",
       "      <td>2.0</td>\n",
       "      <td>0.0</td>\n",
       "      <td>1.0</td>\n",
       "      <td>3.0</td>\n",
       "      <td>0.0</td>\n",
       "    </tr>\n",
       "    <tr>\n",
       "      <th>2</th>\n",
       "      <td>01004</td>\n",
       "      <td>14854.0</td>\n",
       "      <td>14127.0</td>\n",
       "      <td>24.60</td>\n",
       "      <td>1332.0</td>\n",
       "      <td>797.0</td>\n",
       "      <td>6932.839198</td>\n",
       "      <td>231.0</td>\n",
       "      <td>139.0</td>\n",
       "      <td>7846.021789</td>\n",
       "      <td>...</td>\n",
       "      <td>7118.709003</td>\n",
       "      <td>610.0</td>\n",
       "      <td>1.0</td>\n",
       "      <td>33.0</td>\n",
       "      <td>68.0</td>\n",
       "      <td>422.0</td>\n",
       "      <td>161.0</td>\n",
       "      <td>86.0</td>\n",
       "      <td>439.0</td>\n",
       "      <td>132.0</td>\n",
       "    </tr>\n",
       "    <tr>\n",
       "      <th>3</th>\n",
       "      <td>01005</td>\n",
       "      <td>1897.0</td>\n",
       "      <td>1619.0</td>\n",
       "      <td>15.92</td>\n",
       "      <td>111.0</td>\n",
       "      <td>50.0</td>\n",
       "      <td>794.753025</td>\n",
       "      <td>34.0</td>\n",
       "      <td>10.0</td>\n",
       "      <td>898.442947</td>\n",
       "      <td>...</td>\n",
       "      <td>987.970116</td>\n",
       "      <td>45.0</td>\n",
       "      <td>1.0</td>\n",
       "      <td>4.0</td>\n",
       "      <td>10.0</td>\n",
       "      <td>23.0</td>\n",
       "      <td>5.0</td>\n",
       "      <td>7.0</td>\n",
       "      <td>38.0</td>\n",
       "      <td>5.0</td>\n",
       "    </tr>\n",
       "    <tr>\n",
       "      <th>4</th>\n",
       "      <td>01006</td>\n",
       "      <td>113.0</td>\n",
       "      <td>109.0</td>\n",
       "      <td>5.88</td>\n",
       "      <td>6.0</td>\n",
       "      <td>6.0</td>\n",
       "      <td>56.500000</td>\n",
       "      <td>1.0</td>\n",
       "      <td>2.0</td>\n",
       "      <td>73.027778</td>\n",
       "      <td>...</td>\n",
       "      <td>50.552632</td>\n",
       "      <td>1.0</td>\n",
       "      <td>0.0</td>\n",
       "      <td>0.0</td>\n",
       "      <td>0.0</td>\n",
       "      <td>0.0</td>\n",
       "      <td>0.0</td>\n",
       "      <td>1.0</td>\n",
       "      <td>1.0</td>\n",
       "      <td>0.0</td>\n",
       "    </tr>\n",
       "  </tbody>\n",
       "</table>\n",
       "<p>5 rows × 33 columns</p>\n",
       "</div>"
      ],
      "text/plain": [
       "  CODGEO  P21_POP  P15_POP  SUPERF  NAIS1520  DECE1520      P21_MEN  NAISD22  \\\n",
       "0  01001    832.0    767.0   15.95      52.0      33.0   341.234562      8.0   \n",
       "1  01002    267.0    241.0    9.15      18.0       8.0   115.722510      4.0   \n",
       "2  01004  14854.0  14127.0   24.60    1332.0     797.0  6932.839198    231.0   \n",
       "3  01005   1897.0   1619.0   15.92     111.0      50.0   794.753025     34.0   \n",
       "4  01006    113.0    109.0    5.88       6.0       6.0    56.500000      1.0   \n",
       "\n",
       "   DECESD22      P21_LOG  ...  P21_ACT1564  ETTOT21  ETAZ21  ETBE21 ETFZ21  \\\n",
       "0       5.0   372.387494  ...   417.591741     15.0     4.0     0.0    3.0   \n",
       "1       1.0   174.938672  ...   130.225119      4.0     1.0     0.0    0.0   \n",
       "2     139.0  7846.021789  ...  7118.709003    610.0     1.0    33.0   68.0   \n",
       "3      10.0   898.442947  ...   987.970116     45.0     1.0     4.0   10.0   \n",
       "4       2.0    73.027778  ...    50.552632      1.0     0.0     0.0    0.0   \n",
       "\n",
       "  ETGU21 ETGZ21 ETOQ21  ETTEF121  ETTEFP1021  \n",
       "0    6.0    1.0    2.0      13.0         2.0  \n",
       "1    2.0    0.0    1.0       3.0         0.0  \n",
       "2  422.0  161.0   86.0     439.0       132.0  \n",
       "3   23.0    5.0    7.0      38.0         5.0  \n",
       "4    0.0    0.0    1.0       1.0         0.0  \n",
       "\n",
       "[5 rows x 33 columns]"
      ]
     },
     "metadata": {},
     "output_type": "display_data"
    },
    {
     "name": "stdout",
     "output_type": "stream",
     "text": [
      "<class 'pandas.core.frame.DataFrame'>\n",
      "RangeIndex: 34993 entries, 0 to 34992\n",
      "Data columns (total 33 columns):\n",
      " #   Column         Non-Null Count  Dtype  \n",
      "---  ------         --------------  -----  \n",
      " 0   CODGEO         34993 non-null  object \n",
      " 1   P21_POP        34963 non-null  float64\n",
      " 2   P15_POP        34963 non-null  float64\n",
      " 3   SUPERF         34963 non-null  float64\n",
      " 4   NAIS1520       34963 non-null  float64\n",
      " 5   DECE1520       34963 non-null  float64\n",
      " 6   P21_MEN        34960 non-null  float64\n",
      " 7   NAISD22        34990 non-null  float64\n",
      " 8   DECESD22       34990 non-null  float64\n",
      " 9   P21_LOG        34960 non-null  float64\n",
      " 10  P21_RP         34960 non-null  float64\n",
      " 11  P21_RSECOCC    34960 non-null  float64\n",
      " 12  P21_LOGVAC     34960 non-null  float64\n",
      " 13  P21_RP_PROP    34960 non-null  float64\n",
      " 14  NBMENFISC21    34909 non-null  object \n",
      " 15  PIMP21         34909 non-null  object \n",
      " 16  MED21          34909 non-null  object \n",
      " 17  TP6021         34909 non-null  object \n",
      " 18  P21_EMPLT      34960 non-null  float64\n",
      " 19  P21_EMPLT_SAL  34960 non-null  float64\n",
      " 20  P15_EMPLT      34959 non-null  float64\n",
      " 21  P21_POP1564    34960 non-null  float64\n",
      " 22  P21_CHOM1564   34960 non-null  float64\n",
      " 23  P21_ACT1564    34960 non-null  float64\n",
      " 24  ETTOT21        34973 non-null  float64\n",
      " 25  ETAZ21         34973 non-null  float64\n",
      " 26  ETBE21         34973 non-null  float64\n",
      " 27  ETFZ21         34973 non-null  float64\n",
      " 28  ETGU21         34973 non-null  float64\n",
      " 29  ETGZ21         34973 non-null  float64\n",
      " 30  ETOQ21         34973 non-null  float64\n",
      " 31  ETTEF121       34973 non-null  float64\n",
      " 32  ETTEFP1021     34973 non-null  float64\n",
      "dtypes: float64(28), object(5)\n",
      "memory usage: 8.8+ MB\n"
     ]
    },
    {
     "data": {
      "text/plain": [
       "None"
      ]
     },
     "metadata": {},
     "output_type": "display_data"
    },
    {
     "name": "stdout",
     "output_type": "stream",
     "text": [
      "\n",
      "----------------------------\n",
      "\n",
      "info ZE\n"
     ]
    },
    {
     "data": {
      "text/html": [
       "<div>\n",
       "<style scoped>\n",
       "    .dataframe tbody tr th:only-of-type {\n",
       "        vertical-align: middle;\n",
       "    }\n",
       "\n",
       "    .dataframe tbody tr th {\n",
       "        vertical-align: top;\n",
       "    }\n",
       "\n",
       "    .dataframe thead th {\n",
       "        text-align: right;\n",
       "    }\n",
       "</style>\n",
       "<table border=\"1\" class=\"dataframe\">\n",
       "  <thead>\n",
       "    <tr style=\"text-align: right;\">\n",
       "      <th></th>\n",
       "      <th>CODGEO</th>\n",
       "      <th>LIBGEO</th>\n",
       "      <th>ZE2020</th>\n",
       "      <th>LIBZE2020</th>\n",
       "      <th>ZE2020_PARTIE_REG</th>\n",
       "      <th>DEP</th>\n",
       "      <th>REG</th>\n",
       "    </tr>\n",
       "  </thead>\n",
       "  <tbody>\n",
       "    <tr>\n",
       "      <th>0</th>\n",
       "      <td>01001</td>\n",
       "      <td>L'Abergement-Clémenciat</td>\n",
       "      <td>8405</td>\n",
       "      <td>Bourg en Bresse</td>\n",
       "      <td>NaN</td>\n",
       "      <td>01</td>\n",
       "      <td>84</td>\n",
       "    </tr>\n",
       "    <tr>\n",
       "      <th>1</th>\n",
       "      <td>01002</td>\n",
       "      <td>L'Abergement-de-Varey</td>\n",
       "      <td>8405</td>\n",
       "      <td>Bourg en Bresse</td>\n",
       "      <td>NaN</td>\n",
       "      <td>01</td>\n",
       "      <td>84</td>\n",
       "    </tr>\n",
       "    <tr>\n",
       "      <th>2</th>\n",
       "      <td>01004</td>\n",
       "      <td>Ambérieu-en-Bugey</td>\n",
       "      <td>8405</td>\n",
       "      <td>Bourg en Bresse</td>\n",
       "      <td>NaN</td>\n",
       "      <td>01</td>\n",
       "      <td>84</td>\n",
       "    </tr>\n",
       "    <tr>\n",
       "      <th>3</th>\n",
       "      <td>01005</td>\n",
       "      <td>Ambérieux-en-Dombes</td>\n",
       "      <td>8434</td>\n",
       "      <td>Villefranche-sur-Saône</td>\n",
       "      <td>NaN</td>\n",
       "      <td>01</td>\n",
       "      <td>84</td>\n",
       "    </tr>\n",
       "    <tr>\n",
       "      <th>4</th>\n",
       "      <td>01006</td>\n",
       "      <td>Ambléon</td>\n",
       "      <td>8404</td>\n",
       "      <td>Belley</td>\n",
       "      <td>NaN</td>\n",
       "      <td>01</td>\n",
       "      <td>84</td>\n",
       "    </tr>\n",
       "  </tbody>\n",
       "</table>\n",
       "</div>"
      ],
      "text/plain": [
       "  CODGEO                   LIBGEO ZE2020               LIBZE2020  \\\n",
       "0  01001  L'Abergement-Clémenciat   8405         Bourg en Bresse   \n",
       "1  01002    L'Abergement-de-Varey   8405         Bourg en Bresse   \n",
       "2  01004        Ambérieu-en-Bugey   8405         Bourg en Bresse   \n",
       "3  01005      Ambérieux-en-Dombes   8434  Villefranche-sur-Saône   \n",
       "4  01006                  Ambléon   8404                  Belley   \n",
       "\n",
       "  ZE2020_PARTIE_REG DEP  REG  \n",
       "0               NaN  01   84  \n",
       "1               NaN  01   84  \n",
       "2               NaN  01   84  \n",
       "3               NaN  01   84  \n",
       "4               NaN  01   84  "
      ]
     },
     "metadata": {},
     "output_type": "display_data"
    },
    {
     "name": "stdout",
     "output_type": "stream",
     "text": [
      "<class 'pandas.core.frame.DataFrame'>\n",
      "RangeIndex: 34945 entries, 0 to 34944\n",
      "Data columns (total 7 columns):\n",
      " #   Column             Non-Null Count  Dtype \n",
      "---  ------             --------------  ----- \n",
      " 0   CODGEO             34945 non-null  object\n",
      " 1   LIBGEO             34945 non-null  object\n",
      " 2   ZE2020             34945 non-null  object\n",
      " 3   LIBZE2020          34945 non-null  object\n",
      " 4   ZE2020_PARTIE_REG  1687 non-null   object\n",
      " 5   DEP                34945 non-null  object\n",
      " 6   REG                34945 non-null  int64 \n",
      "dtypes: int64(1), object(6)\n",
      "memory usage: 1.9+ MB\n"
     ]
    },
    {
     "data": {
      "text/plain": [
       "None"
      ]
     },
     "metadata": {},
     "output_type": "display_data"
    },
    {
     "name": "stdout",
     "output_type": "stream",
     "text": [
      "\n",
      "----------------------------\n",
      "\n",
      "info df_communes\n"
     ]
    },
    {
     "data": {
      "text/html": [
       "<div>\n",
       "<style scoped>\n",
       "    .dataframe tbody tr th:only-of-type {\n",
       "        vertical-align: middle;\n",
       "    }\n",
       "\n",
       "    .dataframe tbody tr th {\n",
       "        vertical-align: top;\n",
       "    }\n",
       "\n",
       "    .dataframe thead th {\n",
       "        text-align: right;\n",
       "    }\n",
       "</style>\n",
       "<table border=\"1\" class=\"dataframe\">\n",
       "  <thead>\n",
       "    <tr style=\"text-align: right;\">\n",
       "      <th></th>\n",
       "      <th>TYPECOM</th>\n",
       "      <th>COM</th>\n",
       "      <th>REG</th>\n",
       "      <th>DEP</th>\n",
       "      <th>CTCD</th>\n",
       "      <th>ARR</th>\n",
       "      <th>TNCC</th>\n",
       "      <th>NCC</th>\n",
       "      <th>NCCENR</th>\n",
       "      <th>LIBELLE</th>\n",
       "      <th>CAN</th>\n",
       "      <th>COMPARENT</th>\n",
       "    </tr>\n",
       "  </thead>\n",
       "  <tbody>\n",
       "    <tr>\n",
       "      <th>0</th>\n",
       "      <td>COM</td>\n",
       "      <td>01001</td>\n",
       "      <td>84</td>\n",
       "      <td>01</td>\n",
       "      <td>01D</td>\n",
       "      <td>012</td>\n",
       "      <td>5</td>\n",
       "      <td>ABERGEMENT CLEMENCIAT</td>\n",
       "      <td>Abergement-Clémenciat</td>\n",
       "      <td>L'Abergement-Clémenciat</td>\n",
       "      <td>0108</td>\n",
       "      <td>NaN</td>\n",
       "    </tr>\n",
       "    <tr>\n",
       "      <th>1</th>\n",
       "      <td>COM</td>\n",
       "      <td>01002</td>\n",
       "      <td>84</td>\n",
       "      <td>01</td>\n",
       "      <td>01D</td>\n",
       "      <td>011</td>\n",
       "      <td>5</td>\n",
       "      <td>ABERGEMENT DE VAREY</td>\n",
       "      <td>Abergement-de-Varey</td>\n",
       "      <td>L'Abergement-de-Varey</td>\n",
       "      <td>0101</td>\n",
       "      <td>NaN</td>\n",
       "    </tr>\n",
       "    <tr>\n",
       "      <th>2</th>\n",
       "      <td>COM</td>\n",
       "      <td>01004</td>\n",
       "      <td>84</td>\n",
       "      <td>01</td>\n",
       "      <td>01D</td>\n",
       "      <td>011</td>\n",
       "      <td>1</td>\n",
       "      <td>AMBERIEU EN BUGEY</td>\n",
       "      <td>Ambérieu-en-Bugey</td>\n",
       "      <td>Ambérieu-en-Bugey</td>\n",
       "      <td>0101</td>\n",
       "      <td>NaN</td>\n",
       "    </tr>\n",
       "    <tr>\n",
       "      <th>3</th>\n",
       "      <td>COM</td>\n",
       "      <td>01005</td>\n",
       "      <td>84</td>\n",
       "      <td>01</td>\n",
       "      <td>01D</td>\n",
       "      <td>012</td>\n",
       "      <td>1</td>\n",
       "      <td>AMBERIEUX EN DOMBES</td>\n",
       "      <td>Ambérieux-en-Dombes</td>\n",
       "      <td>Ambérieux-en-Dombes</td>\n",
       "      <td>0122</td>\n",
       "      <td>NaN</td>\n",
       "    </tr>\n",
       "    <tr>\n",
       "      <th>4</th>\n",
       "      <td>COM</td>\n",
       "      <td>01006</td>\n",
       "      <td>84</td>\n",
       "      <td>01</td>\n",
       "      <td>01D</td>\n",
       "      <td>011</td>\n",
       "      <td>1</td>\n",
       "      <td>AMBLEON</td>\n",
       "      <td>Ambléon</td>\n",
       "      <td>Ambléon</td>\n",
       "      <td>0104</td>\n",
       "      <td>NaN</td>\n",
       "    </tr>\n",
       "  </tbody>\n",
       "</table>\n",
       "</div>"
      ],
      "text/plain": [
       "  TYPECOM    COM REG DEP CTCD  ARR  TNCC                    NCC  \\\n",
       "0     COM  01001  84  01  01D  012     5  ABERGEMENT CLEMENCIAT   \n",
       "1     COM  01002  84  01  01D  011     5    ABERGEMENT DE VAREY   \n",
       "2     COM  01004  84  01  01D  011     1      AMBERIEU EN BUGEY   \n",
       "3     COM  01005  84  01  01D  012     1    AMBERIEUX EN DOMBES   \n",
       "4     COM  01006  84  01  01D  011     1                AMBLEON   \n",
       "\n",
       "                  NCCENR                  LIBELLE   CAN  COMPARENT  \n",
       "0  Abergement-Clémenciat  L'Abergement-Clémenciat  0108        NaN  \n",
       "1    Abergement-de-Varey    L'Abergement-de-Varey  0101        NaN  \n",
       "2      Ambérieu-en-Bugey        Ambérieu-en-Bugey  0101        NaN  \n",
       "3    Ambérieux-en-Dombes      Ambérieux-en-Dombes  0122        NaN  \n",
       "4                Ambléon                  Ambléon  0104        NaN  "
      ]
     },
     "metadata": {},
     "output_type": "display_data"
    },
    {
     "name": "stdout",
     "output_type": "stream",
     "text": [
      "<class 'pandas.core.frame.DataFrame'>\n",
      "RangeIndex: 37563 entries, 0 to 37562\n",
      "Data columns (total 12 columns):\n",
      " #   Column     Non-Null Count  Dtype  \n",
      "---  ------     --------------  -----  \n",
      " 0   TYPECOM    37563 non-null  object \n",
      " 1   COM        37563 non-null  object \n",
      " 2   REG        34990 non-null  object \n",
      " 3   DEP        34990 non-null  object \n",
      " 4   CTCD       34990 non-null  object \n",
      " 5   ARR        34973 non-null  object \n",
      " 6   TNCC       37563 non-null  int64  \n",
      " 7   NCC        37563 non-null  object \n",
      " 8   NCCENR     37563 non-null  object \n",
      " 9   LIBELLE    37563 non-null  object \n",
      " 10  CAN        34845 non-null  object \n",
      " 11  COMPARENT  2618 non-null   float64\n",
      "dtypes: float64(1), int64(1), object(10)\n",
      "memory usage: 3.4+ MB\n"
     ]
    },
    {
     "data": {
      "text/plain": [
       "None"
      ]
     },
     "metadata": {},
     "output_type": "display_data"
    },
    {
     "name": "stdout",
     "output_type": "stream",
     "text": [
      "\n",
      "----------------------------\n",
      "\n",
      "info df_regions\n"
     ]
    },
    {
     "data": {
      "text/html": [
       "<div>\n",
       "<style scoped>\n",
       "    .dataframe tbody tr th:only-of-type {\n",
       "        vertical-align: middle;\n",
       "    }\n",
       "\n",
       "    .dataframe tbody tr th {\n",
       "        vertical-align: top;\n",
       "    }\n",
       "\n",
       "    .dataframe thead th {\n",
       "        text-align: right;\n",
       "    }\n",
       "</style>\n",
       "<table border=\"1\" class=\"dataframe\">\n",
       "  <thead>\n",
       "    <tr style=\"text-align: right;\">\n",
       "      <th></th>\n",
       "      <th>REG</th>\n",
       "      <th>CHEFLIEU</th>\n",
       "      <th>TNCC</th>\n",
       "      <th>NCC</th>\n",
       "      <th>NCCENR</th>\n",
       "      <th>LIBELLE</th>\n",
       "    </tr>\n",
       "  </thead>\n",
       "  <tbody>\n",
       "    <tr>\n",
       "      <th>0</th>\n",
       "      <td>01</td>\n",
       "      <td>97105</td>\n",
       "      <td>3</td>\n",
       "      <td>GUADELOUPE</td>\n",
       "      <td>Guadeloupe</td>\n",
       "      <td>Guadeloupe</td>\n",
       "    </tr>\n",
       "    <tr>\n",
       "      <th>1</th>\n",
       "      <td>02</td>\n",
       "      <td>97209</td>\n",
       "      <td>3</td>\n",
       "      <td>MARTINIQUE</td>\n",
       "      <td>Martinique</td>\n",
       "      <td>Martinique</td>\n",
       "    </tr>\n",
       "    <tr>\n",
       "      <th>2</th>\n",
       "      <td>03</td>\n",
       "      <td>97302</td>\n",
       "      <td>3</td>\n",
       "      <td>GUYANE</td>\n",
       "      <td>Guyane</td>\n",
       "      <td>Guyane</td>\n",
       "    </tr>\n",
       "    <tr>\n",
       "      <th>3</th>\n",
       "      <td>04</td>\n",
       "      <td>97411</td>\n",
       "      <td>0</td>\n",
       "      <td>LA REUNION</td>\n",
       "      <td>La Réunion</td>\n",
       "      <td>La Réunion</td>\n",
       "    </tr>\n",
       "    <tr>\n",
       "      <th>4</th>\n",
       "      <td>06</td>\n",
       "      <td>97608</td>\n",
       "      <td>0</td>\n",
       "      <td>MAYOTTE</td>\n",
       "      <td>Mayotte</td>\n",
       "      <td>Mayotte</td>\n",
       "    </tr>\n",
       "  </tbody>\n",
       "</table>\n",
       "</div>"
      ],
      "text/plain": [
       "  REG CHEFLIEU  TNCC         NCC      NCCENR     LIBELLE\n",
       "0  01    97105     3  GUADELOUPE  Guadeloupe  Guadeloupe\n",
       "1  02    97209     3  MARTINIQUE  Martinique  Martinique\n",
       "2  03    97302     3      GUYANE      Guyane      Guyane\n",
       "3  04    97411     0  LA REUNION  La Réunion  La Réunion\n",
       "4  06    97608     0     MAYOTTE     Mayotte     Mayotte"
      ]
     },
     "metadata": {},
     "output_type": "display_data"
    },
    {
     "name": "stdout",
     "output_type": "stream",
     "text": [
      "<class 'pandas.core.frame.DataFrame'>\n",
      "RangeIndex: 18 entries, 0 to 17\n",
      "Data columns (total 6 columns):\n",
      " #   Column    Non-Null Count  Dtype \n",
      "---  ------    --------------  ----- \n",
      " 0   REG       18 non-null     object\n",
      " 1   CHEFLIEU  18 non-null     object\n",
      " 2   TNCC      18 non-null     int64 \n",
      " 3   NCC       18 non-null     object\n",
      " 4   NCCENR    18 non-null     object\n",
      " 5   LIBELLE   18 non-null     object\n",
      "dtypes: int64(1), object(5)\n",
      "memory usage: 996.0+ bytes\n"
     ]
    },
    {
     "data": {
      "text/plain": [
       "None"
      ]
     },
     "metadata": {},
     "output_type": "display_data"
    },
    {
     "name": "stdout",
     "output_type": "stream",
     "text": [
      "\n",
      "----------------------------\n",
      "\n",
      "info df_sirene\n"
     ]
    },
    {
     "data": {
      "text/html": [
       "<div>\n",
       "<style scoped>\n",
       "    .dataframe tbody tr th:only-of-type {\n",
       "        vertical-align: middle;\n",
       "    }\n",
       "\n",
       "    .dataframe tbody tr th {\n",
       "        vertical-align: top;\n",
       "    }\n",
       "\n",
       "    .dataframe thead th {\n",
       "        text-align: right;\n",
       "    }\n",
       "</style>\n",
       "<table border=\"1\" class=\"dataframe\">\n",
       "  <thead>\n",
       "    <tr style=\"text-align: right;\">\n",
       "      <th></th>\n",
       "      <th>codeCommuneEtablissement</th>\n",
       "      <th>annee_mois</th>\n",
       "      <th>nb_etabl_crees</th>\n",
       "      <th>nb_etabl_fermes</th>\n",
       "      <th>nb_etabl_crees_net</th>\n",
       "    </tr>\n",
       "  </thead>\n",
       "  <tbody>\n",
       "    <tr>\n",
       "      <th>0</th>\n",
       "      <td>75101</td>\n",
       "      <td>1990-01-01</td>\n",
       "      <td>3</td>\n",
       "      <td>0.0</td>\n",
       "      <td>3.0</td>\n",
       "    </tr>\n",
       "    <tr>\n",
       "      <th>1</th>\n",
       "      <td>75101</td>\n",
       "      <td>1990-02-01</td>\n",
       "      <td>2</td>\n",
       "      <td>1.0</td>\n",
       "      <td>1.0</td>\n",
       "    </tr>\n",
       "    <tr>\n",
       "      <th>2</th>\n",
       "      <td>75101</td>\n",
       "      <td>1990-03-01</td>\n",
       "      <td>2</td>\n",
       "      <td>0.0</td>\n",
       "      <td>2.0</td>\n",
       "    </tr>\n",
       "    <tr>\n",
       "      <th>3</th>\n",
       "      <td>75101</td>\n",
       "      <td>1990-04-01</td>\n",
       "      <td>2</td>\n",
       "      <td>0.0</td>\n",
       "      <td>2.0</td>\n",
       "    </tr>\n",
       "    <tr>\n",
       "      <th>4</th>\n",
       "      <td>75101</td>\n",
       "      <td>1990-05-01</td>\n",
       "      <td>3</td>\n",
       "      <td>0.0</td>\n",
       "      <td>3.0</td>\n",
       "    </tr>\n",
       "  </tbody>\n",
       "</table>\n",
       "</div>"
      ],
      "text/plain": [
       "  codeCommuneEtablissement  annee_mois  nb_etabl_crees  nb_etabl_fermes  \\\n",
       "0                    75101  1990-01-01               3              0.0   \n",
       "1                    75101  1990-02-01               2              1.0   \n",
       "2                    75101  1990-03-01               2              0.0   \n",
       "3                    75101  1990-04-01               2              0.0   \n",
       "4                    75101  1990-05-01               3              0.0   \n",
       "\n",
       "   nb_etabl_crees_net  \n",
       "0                 3.0  \n",
       "1                 1.0  \n",
       "2                 2.0  \n",
       "3                 2.0  \n",
       "4                 3.0  "
      ]
     },
     "metadata": {},
     "output_type": "display_data"
    },
    {
     "name": "stdout",
     "output_type": "stream",
     "text": [
      "<class 'pandas.core.frame.DataFrame'>\n",
      "Index: 275379 entries, 0 to 112091\n",
      "Data columns (total 5 columns):\n",
      " #   Column                    Non-Null Count   Dtype  \n",
      "---  ------                    --------------   -----  \n",
      " 0   codeCommuneEtablissement  275379 non-null  object \n",
      " 1   annee_mois                275379 non-null  object \n",
      " 2   nb_etabl_crees            275379 non-null  int64  \n",
      " 3   nb_etabl_fermes           275379 non-null  float64\n",
      " 4   nb_etabl_crees_net        275379 non-null  float64\n",
      "dtypes: float64(2), int64(1), object(2)\n",
      "memory usage: 12.6+ MB\n"
     ]
    },
    {
     "data": {
      "text/plain": [
       "None"
      ]
     },
     "metadata": {},
     "output_type": "display_data"
    },
    {
     "name": "stdout",
     "output_type": "stream",
     "text": [
      "\n",
      "----------------------------\n",
      "\n",
      "info dvf\n"
     ]
    },
    {
     "data": {
      "text/html": [
       "<div>\n",
       "<style scoped>\n",
       "    .dataframe tbody tr th:only-of-type {\n",
       "        vertical-align: middle;\n",
       "    }\n",
       "\n",
       "    .dataframe tbody tr th {\n",
       "        vertical-align: top;\n",
       "    }\n",
       "\n",
       "    .dataframe thead th {\n",
       "        text-align: right;\n",
       "    }\n",
       "</style>\n",
       "<table border=\"1\" class=\"dataframe\">\n",
       "  <thead>\n",
       "    <tr style=\"text-align: right;\">\n",
       "      <th></th>\n",
       "      <th>dfv_dataviz.csv</th>\n",
       "      <th>annee</th>\n",
       "      <th>prix</th>\n",
       "      <th>Surface reelle bati</th>\n",
       "      <th>Code departement</th>\n",
       "      <th>Code commune</th>\n",
       "      <th>Commune</th>\n",
       "      <th>Code type local</th>\n",
       "      <th>Type local</th>\n",
       "      <th>Nombre pieces principales</th>\n",
       "      <th>prix_m2</th>\n",
       "    </tr>\n",
       "  </thead>\n",
       "  <tbody>\n",
       "    <tr>\n",
       "      <th>0</th>\n",
       "      <td>Vente</td>\n",
       "      <td>2014.0</td>\n",
       "      <td>159000.0</td>\n",
       "      <td>158.0</td>\n",
       "      <td>14</td>\n",
       "      <td>14206</td>\n",
       "      <td>CROCY</td>\n",
       "      <td>1.0</td>\n",
       "      <td>Maison</td>\n",
       "      <td>6.0</td>\n",
       "      <td>1006.0</td>\n",
       "    </tr>\n",
       "    <tr>\n",
       "      <th>1</th>\n",
       "      <td>Vente</td>\n",
       "      <td>2014.0</td>\n",
       "      <td>159000.0</td>\n",
       "      <td>158.0</td>\n",
       "      <td>14</td>\n",
       "      <td>14206</td>\n",
       "      <td>CROCY</td>\n",
       "      <td>1.0</td>\n",
       "      <td>Maison</td>\n",
       "      <td>6.0</td>\n",
       "      <td>1006.0</td>\n",
       "    </tr>\n",
       "    <tr>\n",
       "      <th>2</th>\n",
       "      <td>Vente</td>\n",
       "      <td>2014.0</td>\n",
       "      <td>43000.0</td>\n",
       "      <td>16.0</td>\n",
       "      <td>14</td>\n",
       "      <td>14118</td>\n",
       "      <td>CAEN</td>\n",
       "      <td>2.0</td>\n",
       "      <td>Appartement</td>\n",
       "      <td>1.0</td>\n",
       "      <td>2688.0</td>\n",
       "    </tr>\n",
       "    <tr>\n",
       "      <th>3</th>\n",
       "      <td>Vente</td>\n",
       "      <td>2014.0</td>\n",
       "      <td>135600.0</td>\n",
       "      <td>88.0</td>\n",
       "      <td>14</td>\n",
       "      <td>14118</td>\n",
       "      <td>CAEN</td>\n",
       "      <td>2.0</td>\n",
       "      <td>Appartement</td>\n",
       "      <td>5.0</td>\n",
       "      <td>1541.0</td>\n",
       "    </tr>\n",
       "    <tr>\n",
       "      <th>4</th>\n",
       "      <td>Vente</td>\n",
       "      <td>2014.0</td>\n",
       "      <td>200000.0</td>\n",
       "      <td>110.0</td>\n",
       "      <td>14</td>\n",
       "      <td>14383</td>\n",
       "      <td>LOUVIGNY</td>\n",
       "      <td>1.0</td>\n",
       "      <td>Maison</td>\n",
       "      <td>5.0</td>\n",
       "      <td>1818.0</td>\n",
       "    </tr>\n",
       "  </tbody>\n",
       "</table>\n",
       "</div>"
      ],
      "text/plain": [
       "  dfv_dataviz.csv   annee      prix  Surface reelle bati Code departement  \\\n",
       "0           Vente  2014.0  159000.0                158.0               14   \n",
       "1           Vente  2014.0  159000.0                158.0               14   \n",
       "2           Vente  2014.0   43000.0                 16.0               14   \n",
       "3           Vente  2014.0  135600.0                 88.0               14   \n",
       "4           Vente  2014.0  200000.0                110.0               14   \n",
       "\n",
       "  Code commune   Commune  Code type local   Type local  \\\n",
       "0        14206     CROCY              1.0       Maison   \n",
       "1        14206     CROCY              1.0       Maison   \n",
       "2        14118      CAEN              2.0  Appartement   \n",
       "3        14118      CAEN              2.0  Appartement   \n",
       "4        14383  LOUVIGNY              1.0       Maison   \n",
       "\n",
       "   Nombre pieces principales  prix_m2  \n",
       "0                        6.0   1006.0  \n",
       "1                        6.0   1006.0  \n",
       "2                        1.0   2688.0  \n",
       "3                        5.0   1541.0  \n",
       "4                        5.0   1818.0  "
      ]
     },
     "metadata": {},
     "output_type": "display_data"
    },
    {
     "name": "stdout",
     "output_type": "stream",
     "text": [
      "<class 'pandas.core.frame.DataFrame'>\n",
      "RangeIndex: 2152212 entries, 0 to 2152211\n",
      "Data columns (total 11 columns):\n",
      " #   Column                     Dtype  \n",
      "---  ------                     -----  \n",
      " 0   dfv_dataviz.csv            object \n",
      " 1   annee                      float64\n",
      " 2   prix                       float64\n",
      " 3   Surface reelle bati        float64\n",
      " 4   Code departement           object \n",
      " 5   Code commune               object \n",
      " 6   Commune                    object \n",
      " 7   Code type local            float64\n",
      " 8   Type local                 object \n",
      " 9   Nombre pieces principales  float64\n",
      " 10  prix_m2                    float64\n",
      "dtypes: float64(6), object(5)\n",
      "memory usage: 180.6+ MB\n"
     ]
    },
    {
     "data": {
      "text/plain": [
       "None"
      ]
     },
     "metadata": {},
     "output_type": "display_data"
    },
    {
     "name": "stdout",
     "output_type": "stream",
     "text": [
      "\n",
      "----------------------------\n",
      "\n",
      "info df_sirene_dvm\n"
     ]
    },
    {
     "data": {
      "text/html": [
       "<div>\n",
       "<style scoped>\n",
       "    .dataframe tbody tr th:only-of-type {\n",
       "        vertical-align: middle;\n",
       "    }\n",
       "\n",
       "    .dataframe tbody tr th {\n",
       "        vertical-align: top;\n",
       "    }\n",
       "\n",
       "    .dataframe thead th {\n",
       "        text-align: right;\n",
       "    }\n",
       "</style>\n",
       "<table border=\"1\" class=\"dataframe\">\n",
       "  <thead>\n",
       "    <tr style=\"text-align: right;\">\n",
       "      <th></th>\n",
       "      <th>codeCommuneEtablissement</th>\n",
       "      <th>indicateur_dvm</th>\n",
       "    </tr>\n",
       "  </thead>\n",
       "  <tbody>\n",
       "    <tr>\n",
       "      <th>0</th>\n",
       "      <td>75101</td>\n",
       "      <td>0.990232</td>\n",
       "    </tr>\n",
       "    <tr>\n",
       "      <th>1</th>\n",
       "      <td>75102</td>\n",
       "      <td>1.027956</td>\n",
       "    </tr>\n",
       "    <tr>\n",
       "      <th>2</th>\n",
       "      <td>75103</td>\n",
       "      <td>1.063555</td>\n",
       "    </tr>\n",
       "    <tr>\n",
       "      <th>3</th>\n",
       "      <td>75104</td>\n",
       "      <td>0.995800</td>\n",
       "    </tr>\n",
       "    <tr>\n",
       "      <th>4</th>\n",
       "      <td>75105</td>\n",
       "      <td>1.057870</td>\n",
       "    </tr>\n",
       "  </tbody>\n",
       "</table>\n",
       "</div>"
      ],
      "text/plain": [
       "  codeCommuneEtablissement  indicateur_dvm\n",
       "0                    75101        0.990232\n",
       "1                    75102        1.027956\n",
       "2                    75103        1.063555\n",
       "3                    75104        0.995800\n",
       "4                    75105        1.057870"
      ]
     },
     "metadata": {},
     "output_type": "display_data"
    },
    {
     "name": "stdout",
     "output_type": "stream",
     "text": [
      "<class 'pandas.core.frame.DataFrame'>\n",
      "Index: 3949 entries, 0 to 2650\n",
      "Data columns (total 2 columns):\n",
      " #   Column                    Non-Null Count  Dtype  \n",
      "---  ------                    --------------  -----  \n",
      " 0   codeCommuneEtablissement  3949 non-null   object \n",
      " 1   indicateur_dvm            3949 non-null   float64\n",
      "dtypes: float64(1), object(1)\n",
      "memory usage: 92.6+ KB\n"
     ]
    },
    {
     "data": {
      "text/plain": [
       "None"
      ]
     },
     "metadata": {},
     "output_type": "display_data"
    }
   ],
   "source": [
    "df_stats_communes=pd.read_csv(\"../data/processed/base_cc_comparateur_csv/base_cc_comparateur.csv\", sep=';', dtype={\"CODGEO\": str})\n",
    "df_stats_dict=pd.read_csv(\"../data/processed/base_cc_comparateur_csv/meta_base_cc_comparateur.csv\", sep=';')\n",
    "ZE=pd.read_csv(\"../data/referentiels/zones_emloi.csv\", sep=\",\", dtype={\"CODGEO\": str, \"ZE2020\": str})\n",
    "df_communes=pd.read_csv(\"../data/referentiels/cog_ensemble_2023_csv/v_commune_2023.csv\", sep=',', dtype={\"COM\": str, \"REG\": str}\t)\n",
    "df_regions=pd.read_csv(\"../data/referentiels/cog_ensemble_2023_csv/v_region_2023.csv\", sep=',', dtype={\"REG\": str})\n",
    "df_dvf=pd.read_csv(\"../data/processed/dfv_dataviz.csv.tar.gz\", compression=\"gzip\", dtype={\"Code departement\": str, \"Code commune\": str})\n",
    "df_population_age=pd.read_csv(\"../data/referentiels/population-age-2020.csv\", dtype={\"Région\":str, \"Département\": str, \"Commune\": str})\n",
    "df_population_formation=pd.read_csv(\"../data/referentiels/base-cc-diplomes-formation-2021_csv/base-cc-diplomes-formation-2021.CSV\", sep=\";\",dtype={\"CODGEO\": str})\n",
    "df_population_formation_dict=pd.read_csv(\"../data/referentiels/base-cc-diplomes-formation-2021_csv/meta_base-cc-diplomes-formation-2021.CSV\", sep=\";\")\n",
    "\n",
    "regions=[\"idf\", 'normandie']\n",
    "df_sirene=pd.DataFrame([])\n",
    "df_sirene_dvm=pd.DataFrame([])\n",
    "for region in regions:\n",
    "    _df_sirene=pd.read_csv(f\"../data/processed/sirene/sirene_creations_net_{region}.csv\", sep=',', dtype={\"codeCommuneEtablissement\": str})\n",
    "    _df_dvm=pd.read_csv(f\"../data/processed/sirene/sirene_dvm_{region}.csv\", sep=',', dtype={\"codeCommuneEtablissement\": str})\n",
    "    df_sirene_dvm=pd.concat([df_sirene_dvm, _df_dvm], axis=0)\n",
    "    df_sirene=pd.concat([df_sirene, _df_sirene], axis=0)\n",
    "\n",
    "print(\"info df_statas_communes:\")\n",
    "display(df_stats_communes.head())\n",
    "display(df_stats_communes.info())\n",
    "\n",
    "print('\\n----------------------------\\n')\n",
    "print(\"info ZE\")\n",
    "display(ZE.head())\n",
    "display(ZE.info())\n",
    "\n",
    "print('\\n----------------------------\\n')\n",
    "print(\"info df_communes\")\n",
    "display(df_communes.head())\n",
    "display(df_communes.info())\n",
    "\n",
    "\n",
    "print('\\n----------------------------\\n')\n",
    "print(\"info df_regions\")\n",
    "display(df_regions.head())\n",
    "display(df_regions.info())\n",
    "\n",
    "print('\\n----------------------------\\n')\n",
    "print(\"info df_sirene\")\n",
    "display(df_sirene.head())\n",
    "display(df_sirene.info())\n",
    "\n",
    "print('\\n----------------------------\\n')\n",
    "print(\"info dvf\")\n",
    "display(df_dvf.head())\n",
    "display(df_dvf.info())\n",
    "\n",
    "print('\\n----------------------------\\n')\n",
    "print(\"info df_sirene_dvm\")\n",
    "display(df_sirene_dvm.head())\n",
    "display(df_sirene_dvm.info())\n"
   ]
  },
  {
   "cell_type": "code",
   "execution_count": 141,
   "metadata": {},
   "outputs": [
    {
     "name": "stderr",
     "output_type": "stream",
     "text": [
      "/home/chougar/miniconda3/lib/python3.11/site-packages/pandas/core/nanops.py:1016: RuntimeWarning: invalid value encountered in subtract\n",
      "  sqr = _ensure_numeric((avg - values) ** 2)\n"
     ]
    },
    {
     "data": {
      "text/plain": [
       "count    3949.000000\n",
       "mean             inf\n",
       "std              NaN\n",
       "min         0.000000\n",
       "25%         0.964981\n",
       "50%         1.194118\n",
       "75%         1.570964\n",
       "max              inf\n",
       "Name: indicateur_dvm, dtype: float64"
      ]
     },
     "metadata": {},
     "output_type": "display_data"
    },
    {
     "data": {
      "text/html": [
       "<div>\n",
       "<style scoped>\n",
       "    .dataframe tbody tr th:only-of-type {\n",
       "        vertical-align: middle;\n",
       "    }\n",
       "\n",
       "    .dataframe tbody tr th {\n",
       "        vertical-align: top;\n",
       "    }\n",
       "\n",
       "    .dataframe thead th {\n",
       "        text-align: right;\n",
       "    }\n",
       "</style>\n",
       "<table border=\"1\" class=\"dataframe\">\n",
       "  <thead>\n",
       "    <tr style=\"text-align: right;\">\n",
       "      <th></th>\n",
       "      <th>codeCommuneEtablissement</th>\n",
       "      <th>indicateur_dvm</th>\n",
       "      <th>P21_POP</th>\n",
       "    </tr>\n",
       "  </thead>\n",
       "  <tbody>\n",
       "    <tr>\n",
       "      <th>0</th>\n",
       "      <td>14448</td>\n",
       "      <td>inf</td>\n",
       "      <td>66.0</td>\n",
       "    </tr>\n",
       "    <tr>\n",
       "      <th>1</th>\n",
       "      <td>14681</td>\n",
       "      <td>inf</td>\n",
       "      <td>145.0</td>\n",
       "    </tr>\n",
       "    <tr>\n",
       "      <th>2</th>\n",
       "      <td>27364</td>\n",
       "      <td>inf</td>\n",
       "      <td>186.0</td>\n",
       "    </tr>\n",
       "    <tr>\n",
       "      <th>3</th>\n",
       "      <td>76601</td>\n",
       "      <td>inf</td>\n",
       "      <td>233.0</td>\n",
       "    </tr>\n",
       "  </tbody>\n",
       "</table>\n",
       "</div>"
      ],
      "text/plain": [
       "  codeCommuneEtablissement  indicateur_dvm  P21_POP\n",
       "0                    14448             inf     66.0\n",
       "1                    14681             inf    145.0\n",
       "2                    27364             inf    186.0\n",
       "3                    76601             inf    233.0"
      ]
     },
     "metadata": {},
     "output_type": "display_data"
    },
    {
     "data": {
      "text/plain": [
       "count    3945.000000\n",
       "mean        1.469960\n",
       "std         1.392109\n",
       "min         0.000000\n",
       "25%         0.964415\n",
       "50%         1.193548\n",
       "75%         1.570151\n",
       "max        28.000000\n",
       "Name: indicateur_dvm, dtype: float64"
      ]
     },
     "metadata": {},
     "output_type": "display_data"
    }
   ],
   "source": [
    "display(df_sirene_dvm['indicateur_dvm'].describe())\n",
    "display(df_sirene_dvm[df_sirene_dvm[\"indicateur_dvm\"]== np.inf].merge(df_stats_communes, left_on=\"codeCommuneEtablissement\", right_on=\"CODGEO\").drop(columns=df_stats_communes.columns.drop('P21_POP')))\n",
    "df_sirene_dvm=df_sirene_dvm[df_sirene_dvm[\"indicateur_dvm\"]!= np.inf]\n",
    "display(df_sirene_dvm['indicateur_dvm'].describe())"
   ]
  },
  {
   "cell_type": "code",
   "execution_count": 118,
   "metadata": {},
   "outputs": [
    {
     "data": {
      "text/plain": [
       "Index(['CODGEO', 'NBMENFISC21', 'PIMP21', 'MED21', 'TP6021'], dtype='object')"
      ]
     },
     "execution_count": 118,
     "metadata": {},
     "output_type": "execute_result"
    }
   ],
   "source": [
    "object_columns = df_stats_communes.select_dtypes(include=['object']).columns\n",
    "object_columns"
   ]
  },
  {
   "cell_type": "markdown",
   "metadata": {},
   "source": [
    "#### clean num columns\n",
    "replace \"s\" value by 0 (s means the com is not concerned ), for\n",
    "* TP6021 (tx pauvreté)\n",
    "* PIMP21\tPart des ménages fiscaux imposés en 2021"
   ]
  },
  {
   "cell_type": "code",
   "execution_count": 119,
   "metadata": {},
   "outputs": [
    {
     "name": "stdout",
     "output_type": "stream",
     "text": [
      "<class 'pandas.core.frame.DataFrame'>\n",
      "RangeIndex: 34993 entries, 0 to 34992\n",
      "Data columns (total 33 columns):\n",
      " #   Column         Non-Null Count  Dtype  \n",
      "---  ------         --------------  -----  \n",
      " 0   CODGEO         34993 non-null  object \n",
      " 1   P21_POP        34993 non-null  float64\n",
      " 2   P15_POP        34993 non-null  float64\n",
      " 3   SUPERF         34993 non-null  float64\n",
      " 4   NAIS1520       34993 non-null  float64\n",
      " 5   DECE1520       34993 non-null  float64\n",
      " 6   P21_MEN        34993 non-null  float64\n",
      " 7   NAISD22        34993 non-null  float64\n",
      " 8   DECESD22       34993 non-null  float64\n",
      " 9   P21_LOG        34993 non-null  float64\n",
      " 10  P21_RP         34993 non-null  float64\n",
      " 11  P21_RSECOCC    34993 non-null  float64\n",
      " 12  P21_LOGVAC     34993 non-null  float64\n",
      " 13  P21_RP_PROP    34993 non-null  float64\n",
      " 14  NBMENFISC21    34993 non-null  float64\n",
      " 15  PIMP21         34993 non-null  float64\n",
      " 16  MED21          34993 non-null  float64\n",
      " 17  TP6021         34993 non-null  float64\n",
      " 18  P21_EMPLT      34993 non-null  float64\n",
      " 19  P21_EMPLT_SAL  34993 non-null  float64\n",
      " 20  P15_EMPLT      34993 non-null  float64\n",
      " 21  P21_POP1564    34993 non-null  float64\n",
      " 22  P21_CHOM1564   34993 non-null  float64\n",
      " 23  P21_ACT1564    34993 non-null  float64\n",
      " 24  ETTOT21        34993 non-null  float64\n",
      " 25  ETAZ21         34993 non-null  float64\n",
      " 26  ETBE21         34993 non-null  float64\n",
      " 27  ETFZ21         34993 non-null  float64\n",
      " 28  ETGU21         34993 non-null  float64\n",
      " 29  ETGZ21         34993 non-null  float64\n",
      " 30  ETOQ21         34993 non-null  float64\n",
      " 31  ETTEF121       34993 non-null  float64\n",
      " 32  ETTEFP1021     34993 non-null  float64\n",
      "dtypes: float64(32), object(1)\n",
      "memory usage: 8.8+ MB\n"
     ]
    }
   ],
   "source": [
    "\n",
    "\n",
    "cols_to_clean=['PIMP21', 'TP6021', \"NBMENFISC21\", \"MED21\"]\n",
    "for col in cols_to_clean:\n",
    "    df_stats_communes.loc[df_stats_communes[col]==\"s\", col]=0\n",
    "    df_stats_communes.loc[df_stats_communes[col]==\"nd\", col]=0\n",
    "    df_stats_communes.loc[:, col]= df_stats_communes[col].str.replace(\",\", \".\")\n",
    "\n",
    "# fill na\n",
    "df_stats_communes.fillna(0, inplace=True)\n",
    "\n",
    "# convert obj cols to num\n",
    "for col in cols_to_clean:\n",
    "    df_stats_communes[col]=df_stats_communes[col].astype(float)\n",
    "df_stats_communes.info()\n"
   ]
  },
  {
   "cell_type": "code",
   "execution_count": 120,
   "metadata": {},
   "outputs": [],
   "source": [
    "# définition des variables\n",
    "df_stats_dict= df_stats_dict[df_stats_dict[\"COD_VAR\"]!=\"CODGEO\"][[\"COD_VAR\",\"LIB_VAR\",\"LIB_VAR_LONG\"]]\n",
    "#df_stats_dict"
   ]
  },
  {
   "cell_type": "code",
   "execution_count": 121,
   "metadata": {},
   "outputs": [
    {
     "data": {
      "text/html": [
       "<div>\n",
       "<style scoped>\n",
       "    .dataframe tbody tr th:only-of-type {\n",
       "        vertical-align: middle;\n",
       "    }\n",
       "\n",
       "    .dataframe tbody tr th {\n",
       "        vertical-align: top;\n",
       "    }\n",
       "\n",
       "    .dataframe thead th {\n",
       "        text-align: right;\n",
       "    }\n",
       "</style>\n",
       "<table border=\"1\" class=\"dataframe\">\n",
       "  <thead>\n",
       "    <tr style=\"text-align: right;\">\n",
       "      <th></th>\n",
       "      <th>REG</th>\n",
       "      <th>CHEFLIEU</th>\n",
       "      <th>TNCC</th>\n",
       "      <th>NCC</th>\n",
       "      <th>NCCENR</th>\n",
       "      <th>LIBELLE</th>\n",
       "    </tr>\n",
       "  </thead>\n",
       "  <tbody>\n",
       "    <tr>\n",
       "      <th>5</th>\n",
       "      <td>11</td>\n",
       "      <td>75056</td>\n",
       "      <td>1</td>\n",
       "      <td>ILE DE FRANCE</td>\n",
       "      <td>Île-de-France</td>\n",
       "      <td>Île-de-France</td>\n",
       "    </tr>\n",
       "    <tr>\n",
       "      <th>8</th>\n",
       "      <td>28</td>\n",
       "      <td>76540</td>\n",
       "      <td>0</td>\n",
       "      <td>NORMANDIE</td>\n",
       "      <td>Normandie</td>\n",
       "      <td>Normandie</td>\n",
       "    </tr>\n",
       "  </tbody>\n",
       "</table>\n",
       "</div>"
      ],
      "text/plain": [
       "  REG CHEFLIEU  TNCC            NCC         NCCENR        LIBELLE\n",
       "5  11    75056     1  ILE DE FRANCE  Île-de-France  Île-de-France\n",
       "8  28    76540     0      NORMANDIE      Normandie      Normandie"
      ]
     },
     "metadata": {},
     "output_type": "display_data"
    },
    {
     "data": {
      "text/plain": [
       "REG\n",
       "28    2651\n",
       "11    1288\n",
       "Name: count, dtype: int64"
      ]
     },
     "execution_count": 121,
     "metadata": {},
     "output_type": "execute_result"
    }
   ],
   "source": [
    "# filtrer le df_stats_communes sur les 2 régions\n",
    "codes_regions=[\"11\", \"28\"]\n",
    "display(df_regions[df_regions[\"REG\"].isin(codes_regions)])\n",
    "df_stats_communes=df_stats_communes.merge(df_communes, left_on='CODGEO', right_on='COM', how='left')\n",
    "df_stats_communes.drop(columns=df_communes.columns.drop('REG'), inplace=True)\n",
    "df_stats_communes=df_stats_communes[df_stats_communes[\"REG\"].isin(codes_regions)].reset_index(drop=True)\n",
    "df_stats_communes['REG'].value_counts()\n"
   ]
  },
  {
   "cell_type": "code",
   "execution_count": 122,
   "metadata": {},
   "outputs": [
    {
     "name": "stdout",
     "output_type": "stream",
     "text": [
      "total communes IDF+Normandie: 3939\n",
      "communes IDF+Normandie dans les ZE: 3919\n"
     ]
    }
   ],
   "source": [
    "#### sélection des communes représentées dans les ZE\n",
    "#df_stats_communes= df_stats_communes[df_stats_communes[\"P21_POP\"]>250].reset_index()\n",
    "print(f\"total communes IDF+Normandie: {df_stats_communes.shape[0]}\")\n",
    "ZE_communes=ZE[\"CODGEO\"].unique()\n",
    "df_stats_communes= df_stats_communes[df_stats_communes[\"CODGEO\"].isin(ZE_communes)]\n",
    "\n",
    "print(f\"communes IDF+Normandie dans les ZE: {df_stats_communes.shape[0]}\")"
   ]
  },
  {
   "cell_type": "markdown",
   "metadata": {},
   "source": [
    "#### Récup les données créations établissements, prix immobilier et démographie (âge et formation)\n",
    "**1. Indicateur pour la mesure du dynamisme des créations d'établ.**\n"
   ]
  },
  {
   "cell_type": "markdown",
   "metadata": {},
   "source": [
    "* Calcul taux évol de créations d'établ entre les périodes 2012-2016 et 2017-2021"
   ]
  },
  {
   "cell_type": "code",
   "execution_count": 123,
   "metadata": {},
   "outputs": [],
   "source": [
    "df_sirene[\"annee\"]=pd.to_datetime(df_sirene[\"annee_mois\"]).dt.year\n",
    "df_sirene_tranche_n_1= pd.DataFrame(df_sirene[df_sirene[\"annee\"].between(2012, 2016)].groupby(\"codeCommuneEtablissement\")[\"nb_etabl_crees_net\"].sum()).reset_index().rename(columns={\"nb_etabl_crees_net\": \"nb_etabl_crees_net_tranche_n-1\"})\n",
    "df_sirene_tranche_n= pd.DataFrame(df_sirene[df_sirene[\"annee\"].between(2017, 2021)].groupby(\"codeCommuneEtablissement\")[\"nb_etabl_crees_net\"].sum()).reset_index().rename(columns={\"nb_etabl_crees_net\": \"nb_etabl_crees_net_tranche_n\"})\n",
    "\n",
    "df_sirene_tranches=df_sirene_tranche_n.merge(df_sirene_tranche_n_1, on=\"codeCommuneEtablissement\", how=\"inner\")\n",
    "\n",
    "df_sirene_tranches[\"%_evol_creations_etabl\"]=np.round((df_sirene_tranches['nb_etabl_crees_net_tranche_n']-df_sirene_tranches['nb_etabl_crees_net_tranche_n-1'])/df_sirene_tranches['nb_etabl_crees_net_tranche_n-1'],2)\n",
    "\n",
    "\n"
   ]
  },
  {
   "cell_type": "markdown",
   "metadata": {},
   "source": [
    "* Ajout de l'indicateur au df_stats_communes"
   ]
  },
  {
   "cell_type": "code",
   "execution_count": 124,
   "metadata": {},
   "outputs": [],
   "source": [
    "df_stats_communes= df_stats_communes.merge(df_sirene_tranches, left_on=\"CODGEO\", right_on=\"codeCommuneEtablissement\", how=\"left\").drop(columns=df_sirene_tranches.columns.drop('%_evol_creations_etabl'))"
   ]
  },
  {
   "cell_type": "markdown",
   "metadata": {},
   "source": [
    "* 2. Durée de vie moyenne des établissements / communes"
   ]
  },
  {
   "cell_type": "code",
   "execution_count": 125,
   "metadata": {},
   "outputs": [],
   "source": [
    "df_stats_communes= df_stats_communes.merge(df_sirene_dvm, left_on=\"CODGEO\", right_on=\"codeCommuneEtablissement\", how=\"left\").drop(columns=df_sirene_dvm.columns.drop('indicateur_dvm'))\n",
    "\n"
   ]
  },
  {
   "cell_type": "markdown",
   "metadata": {},
   "source": [
    "* 3. Prix aux m2 et % de transactions"
   ]
  },
  {
   "cell_type": "code",
   "execution_count": 126,
   "metadata": {},
   "outputs": [],
   "source": [
    "_agg={'prix_m2': (\"prix_m2\", \"mean\"), \"nb_ventes\": (\"prix\", \"count\")}\n",
    "df_dvf_tranche_n_1_logements= df_dvf[(df_dvf[\"annee\"].between(2014, 2017))& \n",
    "    (df_dvf[\"Code type local\"].isin([1.0, 2.0]))].groupby([\"Code commune\"]).agg(**_agg).reset_index()\n",
    "\n",
    "df_dvf_tranche_n_logements= df_dvf[(df_dvf[\"annee\"].between(2018, 2021))& \n",
    "    (df_dvf[\"Code type local\"].isin([1.0, 2.0]))].groupby([\"Code commune\"]).agg(**_agg).reset_index()\n",
    "\n",
    "df_dvf_tranche_n_1_locaux= df_dvf[(df_dvf[\"annee\"].between(2014, 2017))& \n",
    "    (df_dvf[\"Code type local\"].isin([4.0]))].groupby([\"Code commune\"]).agg(**_agg).reset_index()\n",
    "\n",
    "df_dvf_tranche_n_locaux= df_dvf[(df_dvf[\"annee\"].between(2018, 2021))& \n",
    "    (df_dvf[\"Code type local\"].isin([4.0]))].groupby([\"Code commune\"]).agg(**_agg).reset_index()\n",
    "\n",
    "df_dvf_tranches_logements=df_dvf_tranche_n_logements.merge(df_dvf_tranche_n_1_logements, on='Code commune')\n",
    "df_dvf_tranches_logements[\"%_evol_nb_ventes_logmts\"]=np.round( (df_dvf_tranches_logements[\"nb_ventes_x\"]-df_dvf_tranches_logements[\"nb_ventes_y\"])/df_dvf_tranches_logements[\"nb_ventes_y\"] ,2)\n",
    "df_dvf_tranches_logements[\"%_evol_prix_m2_logmts\"]=np.round( (df_dvf_tranches_logements[\"prix_m2_x\"]-df_dvf_tranches_logements[\"prix_m2_y\"])/df_dvf_tranches_logements[\"prix_m2_y\"] ,2)\n",
    "df_dvf_tranches_logements.rename(columns={\"prix_m2_x\": \"prix_m2_logmts\"} , inplace=True)\n",
    "\n",
    "df_dvf_tranches_locaux=df_dvf_tranche_n_locaux.merge(df_dvf_tranche_n_1_locaux, on='Code commune')\n",
    "df_dvf_tranches_locaux[\"%_evol_nb_ventes_locaux\"]=np.round( (df_dvf_tranches_locaux[\"nb_ventes_x\"]-df_dvf_tranches_locaux[\"nb_ventes_y\"])/df_dvf_tranches_locaux[\"nb_ventes_y\"] ,2)\n",
    "df_dvf_tranches_locaux[\"%_evol_prix_m2_locaux\"]=np.round( (df_dvf_tranches_locaux[\"prix_m2_x\"]-df_dvf_tranches_locaux[\"prix_m2_y\"])/df_dvf_tranches_locaux[\"prix_m2_y\"] ,2)\n",
    "df_dvf_tranches_locaux.rename(columns={\"prix_m2_x\": \"prix_m2_locaux\"}, inplace=True )\n",
    "#df_dvf_tranches_locaux"
   ]
  },
  {
   "cell_type": "markdown",
   "metadata": {},
   "source": [
    "* Ajout des indicateurs immo au df_stats_communes"
   ]
  },
  {
   "cell_type": "code",
   "execution_count": 127,
   "metadata": {},
   "outputs": [],
   "source": [
    "df_stats_communes= df_stats_communes.merge(df_dvf_tranches_logements, left_on=\"CODGEO\", right_on=\"Code commune\", how=\"left\").drop(\n",
    "    columns=df_dvf_tranches_logements.columns.drop(['%_evol_nb_ventes_logmts', '%_evol_prix_m2_logmts', 'prix_m2_logmts']))\n",
    "\n",
    "df_stats_communes= df_stats_communes.merge(df_dvf_tranches_locaux, left_on=\"CODGEO\", right_on=\"Code commune\", how=\"left\").drop(\n",
    "    columns=df_dvf_tranches_locaux.columns.drop(['%_evol_nb_ventes_locaux', '%_evol_prix_m2_locaux', 'prix_m2_locaux']))\n",
    "\n",
    "\n"
   ]
  },
  {
   "cell_type": "code",
   "execution_count": 144,
   "metadata": {},
   "outputs": [
    {
     "data": {
      "text/plain": [
       "(3945, 2)"
      ]
     },
     "execution_count": 144,
     "metadata": {},
     "output_type": "execute_result"
    }
   ],
   "source": [
    "df_sirene_dvm.shape"
   ]
  },
  {
   "cell_type": "markdown",
   "metadata": {},
   "source": [
    "#### clean num columns\n",
    "replace \"s\" value by 0 (s means the com is not concerned ), for\n",
    "* TP6021 (tx pauvreté)\n",
    "* PIMP21\tPart des ménages fiscaux imposés en 2021"
   ]
  },
  {
   "cell_type": "code",
   "execution_count": 145,
   "metadata": {},
   "outputs": [
    {
     "name": "stdout",
     "output_type": "stream",
     "text": [
      "<class 'pandas.core.frame.DataFrame'>\n",
      "RangeIndex: 34993 entries, 0 to 34992\n",
      "Data columns (total 33 columns):\n",
      " #   Column         Non-Null Count  Dtype  \n",
      "---  ------         --------------  -----  \n",
      " 0   CODGEO         34993 non-null  object \n",
      " 1   P21_POP        34993 non-null  float64\n",
      " 2   P15_POP        34993 non-null  float64\n",
      " 3   SUPERF         34993 non-null  float64\n",
      " 4   NAIS1520       34993 non-null  float64\n",
      " 5   DECE1520       34993 non-null  float64\n",
      " 6   P21_MEN        34993 non-null  float64\n",
      " 7   NAISD22        34993 non-null  float64\n",
      " 8   DECESD22       34993 non-null  float64\n",
      " 9   P21_LOG        34993 non-null  float64\n",
      " 10  P21_RP         34993 non-null  float64\n",
      " 11  P21_RSECOCC    34993 non-null  float64\n",
      " 12  P21_LOGVAC     34993 non-null  float64\n",
      " 13  P21_RP_PROP    34993 non-null  float64\n",
      " 14  NBMENFISC21    34993 non-null  float64\n",
      " 15  PIMP21         34993 non-null  float64\n",
      " 16  MED21          34993 non-null  float64\n",
      " 17  TP6021         34993 non-null  float64\n",
      " 18  P21_EMPLT      34993 non-null  float64\n",
      " 19  P21_EMPLT_SAL  34993 non-null  float64\n",
      " 20  P15_EMPLT      34993 non-null  float64\n",
      " 21  P21_POP1564    34993 non-null  float64\n",
      " 22  P21_CHOM1564   34993 non-null  float64\n",
      " 23  P21_ACT1564    34993 non-null  float64\n",
      " 24  ETTOT21        34993 non-null  float64\n",
      " 25  ETAZ21         34993 non-null  float64\n",
      " 26  ETBE21         34993 non-null  float64\n",
      " 27  ETFZ21         34993 non-null  float64\n",
      " 28  ETGU21         34993 non-null  float64\n",
      " 29  ETGZ21         34993 non-null  float64\n",
      " 30  ETOQ21         34993 non-null  float64\n",
      " 31  ETTEF121       34993 non-null  float64\n",
      " 32  ETTEFP1021     34993 non-null  float64\n",
      "dtypes: float64(32), object(1)\n",
      "memory usage: 8.8+ MB\n"
     ]
    }
   ],
   "source": [
    "\n",
    "\n",
    "cols_to_clean=['PIMP21', 'TP6021', \"NBMENFISC21\", \"MED21\"]\n",
    "for col in cols_to_clean:\n",
    "    df_stats_communes.loc[df_stats_communes[col]==\"s\", col]=0\n",
    "    df_stats_communes.loc[df_stats_communes[col]==\"nd\", col]=0\n",
    "    df_stats_communes.loc[:, col]= df_stats_communes[col].str.replace(\",\", \".\")\n",
    "\n",
    "# fill na\n",
    "df_stats_communes.fillna(0, inplace=True)\n",
    "\n",
    "# convert obj cols to num\n",
    "for col in cols_to_clean:\n",
    "    df_stats_communes[col]=df_stats_communes[col].astype(float)\n",
    "df_stats_communes.info()\n"
   ]
  },
  {
   "cell_type": "code",
   "execution_count": 146,
   "metadata": {},
   "outputs": [],
   "source": [
    "# définition des variables\n",
    "df_stats_dict= df_stats_dict[df_stats_dict[\"COD_VAR\"]!=\"CODGEO\"][[\"COD_VAR\",\"LIB_VAR\",\"LIB_VAR_LONG\"]]\n",
    "#df_stats_dict"
   ]
  },
  {
   "cell_type": "code",
   "execution_count": 147,
   "metadata": {},
   "outputs": [
    {
     "data": {
      "text/html": [
       "<div>\n",
       "<style scoped>\n",
       "    .dataframe tbody tr th:only-of-type {\n",
       "        vertical-align: middle;\n",
       "    }\n",
       "\n",
       "    .dataframe tbody tr th {\n",
       "        vertical-align: top;\n",
       "    }\n",
       "\n",
       "    .dataframe thead th {\n",
       "        text-align: right;\n",
       "    }\n",
       "</style>\n",
       "<table border=\"1\" class=\"dataframe\">\n",
       "  <thead>\n",
       "    <tr style=\"text-align: right;\">\n",
       "      <th></th>\n",
       "      <th>REG</th>\n",
       "      <th>CHEFLIEU</th>\n",
       "      <th>TNCC</th>\n",
       "      <th>NCC</th>\n",
       "      <th>NCCENR</th>\n",
       "      <th>LIBELLE</th>\n",
       "    </tr>\n",
       "  </thead>\n",
       "  <tbody>\n",
       "    <tr>\n",
       "      <th>5</th>\n",
       "      <td>11</td>\n",
       "      <td>75056</td>\n",
       "      <td>1</td>\n",
       "      <td>ILE DE FRANCE</td>\n",
       "      <td>Île-de-France</td>\n",
       "      <td>Île-de-France</td>\n",
       "    </tr>\n",
       "    <tr>\n",
       "      <th>8</th>\n",
       "      <td>28</td>\n",
       "      <td>76540</td>\n",
       "      <td>0</td>\n",
       "      <td>NORMANDIE</td>\n",
       "      <td>Normandie</td>\n",
       "      <td>Normandie</td>\n",
       "    </tr>\n",
       "  </tbody>\n",
       "</table>\n",
       "</div>"
      ],
      "text/plain": [
       "  REG CHEFLIEU  TNCC            NCC         NCCENR        LIBELLE\n",
       "5  11    75056     1  ILE DE FRANCE  Île-de-France  Île-de-France\n",
       "8  28    76540     0      NORMANDIE      Normandie      Normandie"
      ]
     },
     "metadata": {},
     "output_type": "display_data"
    },
    {
     "data": {
      "text/plain": [
       "REG\n",
       "28    2651\n",
       "11    1288\n",
       "Name: count, dtype: int64"
      ]
     },
     "execution_count": 147,
     "metadata": {},
     "output_type": "execute_result"
    }
   ],
   "source": [
    "# filtrer le df_stats_communes sur les 2 régions\n",
    "codes_regions=[\"11\", \"28\"]\n",
    "display(df_regions[df_regions[\"REG\"].isin(codes_regions)])\n",
    "df_stats_communes=df_stats_communes.merge(df_communes, left_on='CODGEO', right_on='COM', how='left')\n",
    "df_stats_communes.drop(columns=df_communes.columns.drop('REG'), inplace=True)\n",
    "df_stats_communes=df_stats_communes[df_stats_communes[\"REG\"].isin(codes_regions)].reset_index(drop=True)\n",
    "df_stats_communes['REG'].value_counts()\n"
   ]
  },
  {
   "cell_type": "code",
   "execution_count": 148,
   "metadata": {},
   "outputs": [
    {
     "name": "stdout",
     "output_type": "stream",
     "text": [
      "total communes IDF+Normandie: 3939\n",
      "communes IDF+Normandie dans les ZE: 3919\n"
     ]
    }
   ],
   "source": [
    "#### sélection des communes représentées dans les ZE\n",
    "#df_stats_communes= df_stats_communes[df_stats_communes[\"P21_POP\"]>250].reset_index()\n",
    "print(f\"total communes IDF+Normandie: {df_stats_communes.shape[0]}\")\n",
    "ZE_communes=ZE[\"CODGEO\"].unique()\n",
    "df_stats_communes= df_stats_communes[df_stats_communes[\"CODGEO\"].isin(ZE_communes)]\n",
    "\n",
    "print(f\"communes IDF+Normandie dans les ZE: {df_stats_communes.shape[0]}\")"
   ]
  },
  {
   "cell_type": "markdown",
   "metadata": {},
   "source": [
    "#### Récup les données créations établissements, prix immobilier et démographie (âge et formation)\n",
    "**1. Indicateur pour la mesure du dynamisme des créations d'établ.**\n"
   ]
  },
  {
   "cell_type": "markdown",
   "metadata": {},
   "source": [
    "* Calcul taux évol de créations d'établ entre les périodes 2012-2016 et 2017-2021"
   ]
  },
  {
   "cell_type": "code",
   "execution_count": 149,
   "metadata": {},
   "outputs": [],
   "source": [
    "df_sirene[\"annee\"]=pd.to_datetime(df_sirene[\"annee_mois\"]).dt.year\n",
    "df_sirene_tranche_n_1= pd.DataFrame(df_sirene[df_sirene[\"annee\"].between(2012, 2016)].groupby(\"codeCommuneEtablissement\")[\"nb_etabl_crees_net\"].sum()).reset_index().rename(columns={\"nb_etabl_crees_net\": \"nb_etabl_crees_net_tranche_n-1\"})\n",
    "df_sirene_tranche_n= pd.DataFrame(df_sirene[df_sirene[\"annee\"].between(2017, 2021)].groupby(\"codeCommuneEtablissement\")[\"nb_etabl_crees_net\"].sum()).reset_index().rename(columns={\"nb_etabl_crees_net\": \"nb_etabl_crees_net_tranche_n\"})\n",
    "\n",
    "df_sirene_tranches=df_sirene_tranche_n.merge(df_sirene_tranche_n_1, on=\"codeCommuneEtablissement\", how=\"inner\")\n",
    "\n",
    "df_sirene_tranches[\"%_evol_creations_etabl\"]=np.round((df_sirene_tranches['nb_etabl_crees_net_tranche_n']-df_sirene_tranches['nb_etabl_crees_net_tranche_n-1'])/df_sirene_tranches['nb_etabl_crees_net_tranche_n-1'],2)\n",
    "\n",
    "\n"
   ]
  },
  {
   "cell_type": "markdown",
   "metadata": {},
   "source": [
    "* Ajout de l'indicateur au df_stats_communes"
   ]
  },
  {
   "cell_type": "code",
   "execution_count": 150,
   "metadata": {},
   "outputs": [],
   "source": [
    "df_stats_communes= df_stats_communes.merge(df_sirene_tranches, left_on=\"CODGEO\", right_on=\"codeCommuneEtablissement\", how=\"left\").drop(columns=df_sirene_tranches.columns.drop('%_evol_creations_etabl'))"
   ]
  },
  {
   "cell_type": "markdown",
   "metadata": {},
   "source": [
    "* 2. Durée de vie moyenne des établissements / communes"
   ]
  },
  {
   "cell_type": "code",
   "execution_count": 151,
   "metadata": {},
   "outputs": [],
   "source": [
    "df_stats_communes= df_stats_communes.merge(df_sirene_dvm, left_on=\"CODGEO\", right_on=\"codeCommuneEtablissement\", how=\"left\").drop(columns=df_sirene_dvm.columns.drop('indicateur_dvm'))\n",
    "\n"
   ]
  },
  {
   "cell_type": "markdown",
   "metadata": {},
   "source": [
    "* 3. Prix aux m2 et % de transactions"
   ]
  },
  {
   "cell_type": "code",
   "execution_count": 152,
   "metadata": {},
   "outputs": [],
   "source": [
    "_agg={'prix_m2': (\"prix_m2\", \"mean\"), \"nb_ventes\": (\"prix\", \"count\")}\n",
    "df_dvf_tranche_n_1_logements= df_dvf[(df_dvf[\"annee\"].between(2014, 2017))& \n",
    "    (df_dvf[\"Code type local\"].isin([1.0, 2.0]))].groupby([\"Code commune\"]).agg(**_agg).reset_index()\n",
    "\n",
    "df_dvf_tranche_n_logements= df_dvf[(df_dvf[\"annee\"].between(2018, 2021))& \n",
    "    (df_dvf[\"Code type local\"].isin([1.0, 2.0]))].groupby([\"Code commune\"]).agg(**_agg).reset_index()\n",
    "\n",
    "df_dvf_tranche_n_1_locaux= df_dvf[(df_dvf[\"annee\"].between(2014, 2017))& \n",
    "    (df_dvf[\"Code type local\"].isin([4.0]))].groupby([\"Code commune\"]).agg(**_agg).reset_index()\n",
    "\n",
    "df_dvf_tranche_n_locaux= df_dvf[(df_dvf[\"annee\"].between(2018, 2021))& \n",
    "    (df_dvf[\"Code type local\"].isin([4.0]))].groupby([\"Code commune\"]).agg(**_agg).reset_index()\n",
    "\n",
    "df_dvf_tranches_logements=df_dvf_tranche_n_logements.merge(df_dvf_tranche_n_1_logements, on='Code commune')\n",
    "df_dvf_tranches_logements[\"%_evol_nb_ventes_logmts\"]=np.round( (df_dvf_tranches_logements[\"nb_ventes_x\"]-df_dvf_tranches_logements[\"nb_ventes_y\"])/df_dvf_tranches_logements[\"nb_ventes_y\"] ,2)\n",
    "df_dvf_tranches_logements[\"%_evol_prix_m2_logmts\"]=np.round( (df_dvf_tranches_logements[\"prix_m2_x\"]-df_dvf_tranches_logements[\"prix_m2_y\"])/df_dvf_tranches_logements[\"prix_m2_y\"] ,2)\n",
    "df_dvf_tranches_logements.rename(columns={\"prix_m2_x\": \"prix_m2_logmts\"} , inplace=True)\n",
    "\n",
    "df_dvf_tranches_locaux=df_dvf_tranche_n_locaux.merge(df_dvf_tranche_n_1_locaux, on='Code commune')\n",
    "df_dvf_tranches_locaux[\"%_evol_nb_ventes_locaux\"]=np.round( (df_dvf_tranches_locaux[\"nb_ventes_x\"]-df_dvf_tranches_locaux[\"nb_ventes_y\"])/df_dvf_tranches_locaux[\"nb_ventes_y\"] ,2)\n",
    "df_dvf_tranches_locaux[\"%_evol_prix_m2_locaux\"]=np.round( (df_dvf_tranches_locaux[\"prix_m2_x\"]-df_dvf_tranches_locaux[\"prix_m2_y\"])/df_dvf_tranches_locaux[\"prix_m2_y\"] ,2)\n",
    "df_dvf_tranches_locaux.rename(columns={\"prix_m2_x\": \"prix_m2_locaux\"}, inplace=True )\n",
    "#df_dvf_tranches_locaux"
   ]
  },
  {
   "cell_type": "markdown",
   "metadata": {},
   "source": [
    "* Ajout des indicateurs immo au df_stats_communes"
   ]
  },
  {
   "cell_type": "code",
   "execution_count": 153,
   "metadata": {},
   "outputs": [],
   "source": [
    "df_stats_communes= df_stats_communes.merge(df_dvf_tranches_logements, left_on=\"CODGEO\", right_on=\"Code commune\", how=\"left\").drop(\n",
    "    columns=df_dvf_tranches_logements.columns.drop(['%_evol_nb_ventes_logmts', '%_evol_prix_m2_logmts', 'prix_m2_logmts']))\n",
    "\n",
    "df_stats_communes= df_stats_communes.merge(df_dvf_tranches_locaux, left_on=\"CODGEO\", right_on=\"Code commune\", how=\"left\").drop(\n",
    "    columns=df_dvf_tranches_locaux.columns.drop(['%_evol_nb_ventes_locaux', '%_evol_prix_m2_locaux', 'prix_m2_locaux']))\n",
    "\n",
    "\n"
   ]
  },
  {
   "cell_type": "markdown",
   "metadata": {},
   "source": [
    "* 4. Traiter les données démographiques (âge et formation)"
   ]
  },
  {
   "cell_type": "code",
   "execution_count": 154,
   "metadata": {},
   "outputs": [],
   "source": [
    "cols=['De 0 à 4 ans\\nHommes\\nRP2020', 'De 0 à 4 ans\\nFemmes\\nRP2020',\n",
    "       'De 5 à 9 ans\\nHommes\\nRP2020', 'De 5 à 9 ans\\nFemmes\\nRP2020',\n",
    "       'De 10 à 14 ans\\nHommes\\nRP2020', 'De 10 à 14 ans\\nFemmes\\nRP2020',\n",
    "       'De 15 à 19 ans\\nHommes\\nRP2020', 'De 15 à 19 ans\\nFemmes\\nRP2020',\n",
    "       'De 20 à 24 ans\\nHommes\\nRP2020', 'De 20 à 24 ans\\nFemmes\\nRP2020',\n",
    "       'De 25 à 29 ans\\nHommes\\nRP2020', 'De 25 à 29 ans\\nFemmes\\nRP2020']\n",
    "df_population_age[\"pop_0_29ans\"]= df_population_age[cols].sum(axis=1)\n",
    "df_population_age[\"CODGEO\"]=df_population_age[\"Département\"]+df_population_age[\"Commune\"]\n",
    "df_population_age= df_population_age[['CODGEO',\"pop_0_29ans\"]]\n",
    "\n",
    "df_stats_communes= df_stats_communes.merge(df_population_age, on='CODGEO', how='left')\n",
    "df_stats_communes[\"ind_jeunesse\"]=np.round(df_stats_communes[\"pop_0_29ans\"]/ df_stats_communes[\"P21_POP\"], 2)"
   ]
  },
  {
   "cell_type": "code",
   "execution_count": 155,
   "metadata": {},
   "outputs": [],
   "source": [
    "# pop de 6 à 17 ans scolarisée /pop de 6 à 17 ans totale\n",
    "df_population_formation[\"tx_scolarisation\"]=np.round( (df_population_formation[\"P21_SCOL0610\"]+df_population_formation[\"P21_SCOL1114\"]+df_population_formation[\"P21_SCOL1517\"])/ (df_population_formation[\"P21_POP0610\"]+df_population_formation[\"P21_POP1114\"]+df_population_formation[\"P21_POP1517\"]), 2)\n",
    "\n",
    "# pop 15 ans et plus, sans aucun diplôme\n",
    "df_population_formation[\"tx_pop_sans_diplome\"]=np.round(df_population_formation[\"P21_NSCOL15P_DIPLMIN\"]/df_population_formation[\"P21_NSCOL15P\"], 2)\n",
    "\n",
    "# pop \n",
    "df_population_formation[\"tx_pop_bac+2_ou_+\"]= np.round( (df_population_formation[\"P21_NSCOL15P_SUP2\"]+df_population_formation[\"P21_NSCOL15P_SUP34\"]+df_population_formation[\"P21_NSCOL15P_SUP5\"])/df_population_formation[\"P21_NSCOL15P\"], 2)\n",
    "df_population_formation=df_population_formation[[\"CODGEO\", \"tx_scolarisation\", \"tx_pop_sans_diplome\", \"tx_pop_bac+2_ou_+\"]]\n",
    "\n"
   ]
  },
  {
   "cell_type": "code",
   "execution_count": 156,
   "metadata": {},
   "outputs": [],
   "source": [
    "df_stats_communes= df_stats_communes.merge(df_population_formation, on=\"CODGEO\", how=\"left\")"
   ]
  },
  {
   "cell_type": "code",
   "execution_count": 157,
   "metadata": {},
   "outputs": [],
   "source": [
    "#### calculs additionnels\n",
    "# densité démographique\n",
    "df_stats_communes[\"densite_demographique\"]=np.round(df_stats_communes[\"P21_POP\"]/df_stats_communes[\"SUPERF\"], 2)\n",
    "\n",
    "# tx évol démographique\n",
    "df_stats_communes[\"tx_evol_demographique\"]=np.round( (df_stats_communes[\"P21_POP\"]- df_stats_communes[\"P15_POP\"])\n",
    "                                                    / df_stats_communes[\"P15_POP\"], 2)\n",
    "\n",
    "# tx vacance locative:\n",
    "df_stats_communes[\"tx_vacance_log\"]=np.round(df_stats_communes[\"P21_LOGVAC\"]/df_stats_communes[\"P21_LOG\"], 2)\n",
    "\n",
    "# tx activite & chômage\n",
    "# tx activité= nb d'actifs / nb personnes en age de travailler (15-64 ans)\n",
    "df_stats_communes[\"tx_activite\"]=np.round(df_stats_communes[\"P21_ACT1564\"]/df_stats_communes[\"P21_POP1564\"], 2)\n",
    "\n",
    "# tx chomage= nb de demandeurs d'emploi / nb personnes en age de travailler (15-64 ans)\n",
    "df_stats_communes[\"tx_chomage\"]=np.round(df_stats_communes[\"P21_CHOM1564\"]/df_stats_communes[\"P21_POP1564\"], 2)\n",
    "\n",
    "\n",
    "# tx emploi salarie = nb de demandeurs salarie / nb emploi total de la commune\n",
    "df_stats_communes[\"part_emplois_salaries\"]=np.round(df_stats_communes[\"P21_EMPLT_SAL\"]/df_stats_communes[\"P21_EMPLT\"], 2)\n",
    "\n",
    "# part des emplois dans la commune (nb emplois dans la commune / nb habitants total)\n",
    "df_stats_communes[\"part_emplois_dans_la_commune\"]=np.round(df_stats_communes[\"P21_EMPLT\"]/df_stats_communes[\"P21_POP\"], 2)\n",
    "\n",
    "# densité établissements actifs\n",
    "df_stats_communes[\"densite_etablissements\"]=np.round(df_stats_communes[\"ETTOT21\"]/df_stats_communes[\"SUPERF\"], 2)\n",
    "\n",
    "# tx établissements actifs / pop\n",
    "df_stats_communes[\"tx_etablissements\"]=np.round(df_stats_communes[\"ETTOT21\"]/df_stats_communes[\"P21_POP\"], 2)\n",
    "\n",
    "# part Établissements actifs de l'agriculture, sylviculture et pêche fin 2021\n",
    "df_stats_communes[\"part_Ets_agriculture\"]=np.round(df_stats_communes[\"ETAZ21\"]/df_stats_communes[\"ETTOT21\"], 4)\n",
    "\n",
    "# part Établissements actifs de l'industrie fin 2021\n",
    "df_stats_communes[\"part_Ets_industrie\"]=np.round(df_stats_communes[\"ETBE21\"]/df_stats_communes[\"ETTOT21\"], 4)\n",
    "\n",
    "# part Établissements actifs de la construction fin 2021\n",
    "df_stats_communes[\"part_Ets_construction\"]=np.round(df_stats_communes[\"ETFZ21\"]/df_stats_communes[\"ETTOT21\"], 4)\n",
    "\n",
    "# part Établissements actifs du commerce, transports et services divers fin 2021\n",
    "df_stats_communes[\"part_Ets_commerce_services\"]=np.round(df_stats_communes[\"ETGU21\"]/df_stats_communes[\"ETTOT21\"], 4)\n",
    "\n",
    "# part Établissements actifs de l'administration publique, enseignement, santé et action sociale fin 2021\n",
    "df_stats_communes[\"part_Ets_adm_publique\"]=np.round(df_stats_communes[\"ETOQ21\"]/df_stats_communes[\"ETTOT21\"], 4)\n",
    "\n",
    "# part Établissements actifs de 1 à 9 salariés fin 2021\n",
    "df_stats_communes[\"part_Ets_1_a_9_salariés\"]=np.round(df_stats_communes[\"ETTEF121\"]/df_stats_communes[\"ETTOT21\"], 4)\n",
    "\n",
    "# part Établissements actifs de 10 salariés ou plus fin 2021\n",
    "df_stats_communes[\"part_Ets_10_salaries_ou_+\"]=np.round(df_stats_communes[\"ETTEFP1021\"]/df_stats_communes[\"ETTOT21\"], 4)\n",
    "\n",
    "\n"
   ]
  },
  {
   "cell_type": "code",
   "execution_count": 158,
   "metadata": {},
   "outputs": [
    {
     "name": "stderr",
     "output_type": "stream",
     "text": [
      "/home/chougar/miniconda3/lib/python3.11/site-packages/seaborn/categorical.py:641: FutureWarning: The default of observed=False is deprecated and will be changed to True in a future version of pandas. Pass observed=False to retain current behavior or observed=True to adopt the future default and silence this warning.\n",
      "  grouped_vals = vals.groupby(grouper)\n"
     ]
    },
    {
     "data": {
      "image/png": "[encoded data removed]",
      "text/plain": [
       "<Figure size 1200x600 with 1 Axes>"
      ]
     },
     "metadata": {},
     "output_type": "display_data"
    }
   ],
   "source": [
    "\n",
    "# Define the bins\n",
    "bins = [0, 500, 1000, 2000, 5000, 10000, 20000, 50000, 100000, 200000, float('inf')]\n",
    "labels = ['0-500', '501-1k', '1k-2k', '2k-5k', '5k-10k', '10k-20k', '20k-50k', '50k-100k', '100k-200k', \"200k+\"]\n",
    "\n",
    "# Create a new column with the binned data\n",
    "df_stats_communes['population_category'] = pd.cut(df_stats_communes['P21_POP'], bins=bins, labels=labels, right=False)\n",
    "\n",
    "# Count the municipalities in each bin\n",
    "#population_distribution = pd.DataFrame(df_stats_communes['population_category'].value_counts().sort_index())\n",
    "population_distribution = df_stats_communes['population_category'].value_counts().sort_index()\n",
    "\n",
    "\n",
    "# Create the plot\n",
    "plt.figure(figsize=(12, 6))\n",
    "sns.barplot(x=population_distribution.index, y=population_distribution.values)\n",
    "\n",
    "plt.title('Distribution of Municipalities by Population Range')\n",
    "plt.xlabel('Population Range')\n",
    "plt.ylabel('Number of Municipalities')\n",
    "plt.xticks(rotation=45)\n",
    "plt.show()"
   ]
  },
  {
   "cell_type": "markdown",
   "metadata": {},
   "source": [
    "#### Scaling"
   ]
  },
  {
   "cell_type": "code",
   "execution_count": 159,
   "metadata": {},
   "outputs": [],
   "source": [
    "from sklearn.preprocessing import StandardScaler\n",
    "\n",
    "def scale_data(df, columns_to_scale=[]):\n",
    "\n",
    "    # Preprocessing\n",
    "    cols_drop=[\n",
    "        'CODGEO', 'REG', \"P21_POP\", \"P15_POP\", \"SUPERF\", \"P21_MEN\",\n",
    "        \"NAIS1520\",\n",
    "        \"DECE1520\",\n",
    "        \"NAISD22\",\n",
    "        \"DECESD22\",\n",
    "        \"P21_LOG\",\n",
    "        \"P21_RP\",\n",
    "        \"P21_RSECOCC\",\n",
    "        \"P21_LOGVAC\",\n",
    "        \"P21_RP_PROP\",\n",
    "        \"NBMENFISC21\",\n",
    "        \"P21_EMPLT\",\n",
    "        \"P21_EMPLT_SAL\",\n",
    "        \"P15_EMPLT\",\n",
    "        \"P21_POP1564\",\n",
    "        \"P21_CHOM1564\",\n",
    "        \"P21_ACT1564\",\n",
    "        \"ETTOT21\",\n",
    "        \"ETAZ21\",\n",
    "        \"ETBE21\",\n",
    "        \"ETFZ21\",\n",
    "        \"ETGU21\",\n",
    "        \"ETGZ21\",\n",
    "        \"ETOQ21\",\n",
    "        \"ETTEF121\",\n",
    "        \"ETTEFP1021\",\n",
    "        \"pop_0_29ans\",\n",
    "        \"population_category\"\n",
    "    ]\n",
    "    X = df.drop(cols_drop, axis=1)\n",
    "\n",
    "    scaler = StandardScaler()\n",
    "    if len(columns_to_scale)>0:\n",
    "        X_scaled = scaler.fit_transform(X[columns_to_scale])\n",
    "    else:\n",
    "        X_scaled = scaler.fit_transform(X)\n",
    "\n",
    "    return X_scaled"
   ]
  },
  {
   "cell_type": "code",
   "execution_count": 160,
   "metadata": {},
   "outputs": [
    {
     "data": {
      "text/plain": [
       "(1192, 6)"
      ]
     },
     "execution_count": 160,
     "metadata": {},
     "output_type": "execute_result"
    }
   ],
   "source": [
    "# scale df selon type d'indicateur et nb habitants\n",
    "\"\"\"liste des indicateurs:\n",
    "    - Démographie\n",
    "    - Société\n",
    "    - Immobilier\n",
    "    - Economie\n",
    "\"\"\"\n",
    "type_ind='Démographie' #Démographie, Immobilier\n",
    "population=1000\n",
    "\n",
    "bibl_ind=[\n",
    "    {\"field\": 'densite_demographique', \"alias\": \"Densité démo.\", \"dimension\": \"Démographie\"},\n",
    "    {\"field\": 'tx_evol_demographique', \"alias\": \"% évol. démo.\", \"dimension\": \"Démographie\"},\n",
    "    {\"field\": \"ind_jeunesse\", \"alias\": \"Ind. de jeunesse\", \"dimension\": \"Démographie\"},\n",
    "    {\"field\": \"tx_scolarisation\", \"alias\": \"Tx de scolarisation\", \"dimension\": \"Démographie\"},\n",
    "    {\"field\": \"tx_pop_sans_diplome\", \"alias\": \"% pop sans diplome\", \"dimension\": \"Démographie\"},\n",
    "    {\"field\": \"tx_pop_bac+2_ou_+\", \"alias\": \"% pop bac+2 ou +\", \"dimension\": \"Démographie\"},    \n",
    "    {\"field\": 'TP6021', \"alias\": \"Tx pauvreté\", \"dimension\": \"Société\"},\n",
    "    {\"field\": 'MED21', \"alias\": \"Niveau de vie median\", \"dimension\": \"Société\"},\n",
    "    {\"field\": 'tx_chomage', \"alias\": \"Tx chômage\", \"dimension\": \"Société\"},\n",
    "    {\"field\": 'prix_m2_logmts', \"alias\": \"Prix m2 logts.\", \"dimension\": \"Immobilier\"},\n",
    "    {\"field\": '%_evol_nb_ventes_logmts', \"alias\": \"%_evol_nb_ventes_logmts\", \"dimension\": \"Immobilier\"},\n",
    "    {\"field\": '%_evol_prix_m2_logmts', \"alias\": \"%_evol_prix_m2_logmts\", \"dimension\": \"Immobilier\"},\n",
    "    {\"field\": 'tx_vacance_log', \"alias\": \"Tx vacance log.\", \"dimension\": \"Immobilier\"},\n",
    "    {\"field\": 'prix_m2_locaux', \"alias\": \"Prix m2 locaux.\", \"dimension\": \"Economie\"},\n",
    "    {\"field\": '%_evol_nb_ventes_locaux', \"alias\": \"%_evol_nb_ventes_locaux\", \"dimension\": \"Economie\"},\n",
    "    {\"field\": '%_evol_prix_m2_locaux', \"alias\": \"%_evol_prix_m2_locaux\", \"dimension\": \"Economie\"},\n",
    "    {\"field\": \"indicateur_dvm\", \"alias\": \"Ind. durée vie établ.\", \"dimension\": \"Economie\"},\n",
    "    {\"field\": \"%_evol_creations_etabl\", \"alias\": \"Ind. créations établ.\", \"dimension\": \"Economie\"},\n",
    "    {\"field\": 'tx_activite', \"alias\": \"Tx activité\", \"dimension\": \"Economie\"},    \n",
    "    {\"field\": 'part_emplois_salaries', \"alias\": \"% emplois salariés\", \"dimension\": \"Economie\"},\n",
    "    {\"field\": 'part_emplois_dans_la_commune', \"alias\": \"% emplois dans la commune\", \"dimension\": \"Economie\"},\n",
    "    {\"field\": 'densite_etablissements', \"alias\": \"Densité établ.\", \"dimension\": \"Economie\"},\n",
    "    {\"field\": 'tx_etablissements', \"alias\": \"Tx établ.\", \"dimension\": \"Economie\"},\n",
    "    {\"field\": 'part_Ets_agriculture', \"alias\": \"% établ. agriculture\", \"dimension\": \"Economie\"},\n",
    "    {\"field\": 'part_Ets_industrie', \"alias\": \"% établ. industrie\", \"dimension\": \"Economie\"},\n",
    "    {\"field\": 'part_Ets_construction', \"alias\": \"% établ. construction\", \"dimension\": \"Economie\"},\n",
    "    {\"field\": 'part_Ets_commerce_services', \"alias\": \"% établ. commerce_services\", \"dimension\": \"Economie\"},\n",
    "    {\"field\": 'part_Ets_adm_publique', \"alias\": \"% établ. adm_publique\", \"dimension\": \"Economie\"},\n",
    "    {\"field\": 'part_Ets_1_a_9_salariés', \"alias\": \"% établ. 1_a_9_salariés\", \"dimension\": \"Economie\"},\n",
    "    {\"field\": 'part_Ets_10_salaries_ou_+', \"alias\": \"% établ. 10_salaries_ou_+\", \"dimension\": \"Economie\"},\n",
    "]\n",
    "\n",
    "if type_ind=='all' or type_ind=='':\n",
    "    inds=[r[\"field\"] for r in bibl_ind]\n",
    "else:\n",
    "    inds=[r[\"field\"] for r in bibl_ind if r[\"dimension\"]==type_ind]\n",
    "\n",
    "\n",
    "df_stats_communes_filtre=df_stats_communes[df_stats_communes['P21_POP']>= population].reset_index().dropna()\n",
    "X_scaled=scale_data(df_stats_communes_filtre, inds)\n",
    "X_scaled.shape"
   ]
  },
  {
   "cell_type": "markdown",
   "metadata": {},
   "source": [
    "### Reduction de dimension\n",
    "Nous filtrons le dset sur les communes de +de 500 habitants"
   ]
  },
  {
   "cell_type": "markdown",
   "metadata": {},
   "source": [
    "##### PCA pour déterminer le nb de composantes nécessaires pour expliquer la variance du dataset"
   ]
  },
  {
   "cell_type": "code",
   "execution_count": 161,
   "metadata": {},
   "outputs": [
    {
     "data": {
      "image/png": "[encoded data removed]",
      "text/plain": [
       "<Figure size 640x480 with 1 Axes>"
      ]
     },
     "metadata": {},
     "output_type": "display_data"
    },
    {
     "data": {
      "image/png": "[encoded data removed]",
      "text/plain": [
       "<Figure size 1000x600 with 1 Axes>"
      ]
     },
     "metadata": {},
     "output_type": "display_data"
    }
   ],
   "source": [
    "\n",
    "# PCA\n",
    "#k\n",
    "pca=PCA()\n",
    "#l\n",
    "prj= pca.fit_transform(X_scaled)\n",
    "\n",
    "#m\n",
    "plt.figure()\n",
    "#plt.xlim(0,100)\n",
    "plt.plot(pca.explained_variance_ratio_)\n",
    "\n",
    "#n\n",
    "plt.figure(figsize=(10,6))\n",
    "#plt.xlim(0,100)\n",
    "plt.xlabel('Nombre de composantes')\n",
    "plt.ylabel('Part de variance expliquée')\n",
    "plt.axhline(y = 0.9, color ='r', linestyle = '--')\n",
    "plt.plot(pca.explained_variance_ratio_.cumsum());\n",
    "plt.grid()"
   ]
  },
  {
   "cell_type": "markdown",
   "metadata": {},
   "source": [
    "* 11 composantes peuvent expliquer 90% de la variance"
   ]
  },
  {
   "cell_type": "markdown",
   "metadata": {},
   "source": [
    "#### Déterminer le nb optimal de clusters: elbow method"
   ]
  },
  {
   "cell_type": "markdown",
   "metadata": {},
   "source": [
    "* Implementation scipy.cdist"
   ]
  },
  {
   "cell_type": "code",
   "execution_count": 162,
   "metadata": {},
   "outputs": [],
   "source": [
    "# Importation de la fonction cdist du package scipy.spatial.distance\n",
    "from scipy.spatial.distance import cdist\n",
    "\n",
    "\n",
    "\n",
    "\n",
    "def get_kmeans_optimal_clusters(X, verbose=False):\n",
    "    # Liste des nombres de clusters\n",
    "    range_n_clusters = [2, 3, 4, 5, 6,7,8,9,10]  \n",
    "\n",
    "    # Initialisation de la liste de distorsions\n",
    "    distorsions = []\n",
    "\n",
    "    # Calcul des distorsions pour les différents modèles\n",
    "    for n_clusters in range_n_clusters:\n",
    "        \n",
    "        # Initialisation d'un cluster ayant un pour nombre de clusters n_clusters\n",
    "        cluster = KMeans(n_clusters = n_clusters)\n",
    "        \n",
    "        # Apprentissage des données suivant le cluster construit ci-dessus\n",
    "        cluster.fit(X)\n",
    "        \n",
    "        # Ajout de la nouvelle distorsion à la liste des données\n",
    "        distorsions.append(sum(np.min(cdist(X, cluster.cluster_centers_, 'euclidean'), axis=1)) / np.size(X, axis = 0))\n",
    "\n",
    "    df_dist=pd.DataFrame( data={\"range_n_clusters\": range_n_clusters, \"distorsions\": distorsions})\n",
    "    \n",
    "    if verbose:\n",
    "        print('distorsions by n_clusters;')\n",
    "        pd.DataFrame(data={\"clusters\": range_n_clusters, \"distortion\":distorsions})\n",
    "\n",
    "        plt.plot(range_n_clusters, distorsions, 'gx-')\n",
    "        plt.xlabel('Nombre de Clusters K')\n",
    "        plt.ylabel('Distorsion SSW/(SSW+SSB)')\n",
    "        plt.title('Méthode du coude affichant le nombre de clusters optimal')\n",
    "        plt.grid()\n",
    "        plt.show()\n",
    "\n",
    "        \n",
    "        display(df_dist)\n",
    "\n",
    "    df_dist['diff'] = df_dist['distorsions'].diff().abs()\n",
    "\n",
    "    # Find the index of the maximum change (which indicates the elbow)\n",
    "    elbow_index = df_dist['diff'].idxmax()\n",
    "    optimal_clusters = df_dist['range_n_clusters'][elbow_index]\n",
    "\n",
    "    return optimal_clusters\n",
    "\n",
    "\n"
   ]
  },
  {
   "cell_type": "code",
   "execution_count": 163,
   "metadata": {},
   "outputs": [],
   "source": [
    "def get_df_from_lower_dimension(X, df_source, cols, clusters):\n",
    "    df=pd.DataFrame(data=X, columns=cols)\n",
    "    df[\"region\"]= df_source[\"REG\"].map({\"11\": \"IDF\", '28': \"Normandie\"})\n",
    "    df[\"CODGEO\"]= df_source[\"CODGEO\"]\n",
    "    df[\"dep\"]= df[\"region\"]+\"-\"+ df_source[\"CODGEO\"].str[:2]\n",
    "    df['clusters'] = clusters.astype(str)\n",
    "    df=df.merge(df_source, on='CODGEO', how='inner')\n",
    "    df=df.merge(df_communes, left_on='CODGEO', right_on='COM', how='inner').drop(\n",
    "        columns=[\n",
    "            'TYPECOM', 'COM',\n",
    "            'REG_y', 'DEP', 'CTCD', 'ARR', 'TNCC', 'NCC', 'NCCENR',\n",
    "            'CAN', 'COMPARENT'\n",
    "        ]\n",
    "    ).rename(columns={'LIBELLE': 'libcom'})\n",
    "\n",
    "    return df"
   ]
  },
  {
   "cell_type": "markdown",
   "metadata": {},
   "source": [
    "#### Déterminer le nb optimal de clusters: grid search"
   ]
  },
  {
   "cell_type": "code",
   "execution_count": 168,
   "metadata": {},
   "outputs": [],
   "source": [
    "def get_best_params_MiniBatchKMeans(X):\n",
    "    # Define the scoring function based on silhouette score\n",
    "    def silhouette_scorer(estimator, X):\n",
    "        labels = estimator.fit_predict(X)\n",
    "        return silhouette_score(X, labels)\n",
    "\n",
    "    # Define the parameter grid specifically for MiniBatchKMeans\n",
    "    param_grid = {\n",
    "        'n_clusters': [3,4,5,6,7,8,9,10, 11,12,13,14,15],# Fixed based on elbow method\n",
    "        'init': ['k-means++', 'random'],\n",
    "        'n_init': [10, 20],  # Number of initializations\n",
    "        'max_iter': [300, 600],  # Maximum iterations for a single run\n",
    "        'tol': [1e-4, 1e-3],  # Tolerance for convergence\n",
    "        'batch_size': [50, 100, 250, 500],  # Size of the mini-batches\n",
    "        'max_no_improvement': [10, 20, 50]  # Early stopping criteria\n",
    "    }\n",
    "\n",
    "    # Set up the MiniBatchKMeans model\n",
    "    mini_batch_kmeans = MiniBatchKMeans(random_state=42)\n",
    "\n",
    "    # Set up the grid search with cross-validation and parallelization\n",
    "    grid_search = GridSearchCV(\n",
    "        estimator=mini_batch_kmeans,\n",
    "        param_grid=param_grid,\n",
    "        #scoring=make_scorer(silhouette_scorer),\n",
    "        cv=3,  # 3-fold cross-validation\n",
    "        n_jobs=-1  # Utilize all available CPUs for parallel processing\n",
    "    )\n",
    "\n",
    "    # Fit the grid search model\n",
    "    grid_search.fit(X)\n",
    "\n",
    "    # Output the best parameters and best score\n",
    "    print(f\"Best parameters: {grid_search.best_params_}\")\n",
    "    print(f\"Best silhouette score: {grid_search.best_score_}\")\n",
    "\n",
    "    return {\"best_params\": grid_search.best_params_, \"best_estimator\": grid_search.best_estimator_, }"
   ]
  },
  {
   "cell_type": "code",
   "execution_count": 165,
   "metadata": {},
   "outputs": [],
   "source": [
    "n_clusters_pca=None"
   ]
  },
  {
   "cell_type": "code",
   "execution_count": null,
   "metadata": {},
   "outputs": [],
   "source": [
    "n_components=3\n",
    "clustering_model=\"mini_batch_kmeans\"\n",
    "pca_cols=[]\n",
    "for i in range(0,n_components):\n",
    "    pca_cols.append(f'axe_{i}')\n",
    "\n",
    "# PCA\n",
    "pca = PCA(n_components=n_components)\n",
    "X_pca = pca.fit_transform(X_scaled)\n",
    "\n",
    "\n",
    "# K-Means\n",
    "if clustering_model==\"kmeans\":\n",
    "    if n_clusters_pca==None:\n",
    "        n_clusters_pca=get_kmeans_optimal_clusters(X_pca,)\n",
    "\n",
    "    kmeans = KMeans(n_clusters=n_clusters_pca, random_state=42)\n",
    "    clusters = kmeans.fit_predict(X_pca)\n",
    "elif clustering_model=='mini_batch_kmeans':\n",
    "    grid_miniKmeans= get_best_params_MiniBatchKMeans(X_pca,)\n",
    "    n_clusters_pca=grid_miniKmeans[\"best_params\"][\"n_clusters\"]\n",
    "    clusters = grid_miniKmeans[\"best_estimator\"].fit_predict(X_pca)\n",
    "\n",
    "# Adding cluster labels to the original data\n",
    "#df_stats_communes['clusters'] = kmeans_clusters.astype(str)\n",
    "\n",
    "\n",
    "# add codgeo\n",
    "#df_pca=get_df_from_lower_dimension(X_pca, pca_cols, kmeans_clusters)\n"
   ]
  },
  {
   "cell_type": "code",
   "execution_count": 167,
   "metadata": {},
   "outputs": [
    {
     "data": {
      "image/png": "[encoded data removed]",
      "text/plain": [
       "<Figure size 1200x800 with 1 Axes>"
      ]
     },
     "metadata": {},
     "output_type": "display_data"
    }
   ],
   "source": [
    "#for i in range(1, n_components):\n",
    "i=1\n",
    "\n",
    "import matplotlib.patches as mpatches\n",
    "\n",
    "# Assuming kmeans_clusters is your cluster labels and n_clusters_pca is the number of clusters\n",
    "unique_clusters = np.unique(clusters)\n",
    "\n",
    "# Create a scatter plot\n",
    "plt.figure(figsize=(12, 8))\n",
    "scatter = plt.scatter(X_pca[:, 0], X_pca[:, i], c=clusters, cmap='tab10', s=8)\n",
    "\n",
    "# Create legend handles\n",
    "handles = [mpatches.Patch(color=scatter.cmap(scatter.norm(cluster)), label=f'Cluster {cluster}') for cluster in unique_clusters]\n",
    "\n",
    "# Add legend to the plot\n",
    "plt.legend(handles=handles, title=\"Clusters\")\n",
    "\n",
    "# Add labels and title\n",
    "plt.xlabel('PCA 1')\n",
    "plt.ylabel(f'PCA {i}')\n",
    "plt.grid()\n",
    "plt.title(f'PCA of Municipalities - axe 0 / axe {i} - kmeans cluster {n_clusters_pca}')\n",
    "\n",
    "# Display the plot\n",
    "plt.show()\n",
    "\n",
    "# scatter_plot = px.scatter(\n",
    "#     df_pca, x='axe_0', y='axe_1', \n",
    "#     color=kmeans_clusters.astype(str),\n",
    "#     hover_name='CODGEO',\n",
    "#     title='',    \n",
    "# )\n",
    "# scatter_plot.update_layout(height=720,dragmode='select')\n",
    "# scatter_plot.update_traces(marker_size=10)\n",
    "# scatter_plot.show()\n"
   ]
  }
 ],
 "metadata": {
  "kernelspec": {
   "display_name": "base",
   "language": "python",
   "name": "python3"
  },
  "language_info": {
   "codemirror_mode": {
    "name": "ipython",
    "version": 3
   },
   "file_extension": ".py",
   "mimetype": "text/x-python",
   "name": "python",
   "nbconvert_exporter": "python",
   "pygments_lexer": "ipython3",
   "version": "3.11.8"
  }
 },
 "nbformat": 4,
 "nbformat_minor": 2
}
