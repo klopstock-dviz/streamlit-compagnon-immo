{
 "cells": [
  {
   "cell_type": "code",
   "execution_count": 31,
   "metadata": {},
   "outputs": [
    {
     "name": "stderr",
     "output_type": "stream",
     "text": [
      "2024-09-15 20:43:49.779 WARNING streamlit.runtime.scriptrunner_utils.script_run_context: Thread 'MainThread': missing ScriptRunContext! This warning can be ignored when running in bare mode.\n"
     ]
    }
   ],
   "source": [
    "\n",
    "import pandas as pd\n",
    "import numpy as np\n",
    "import os\n",
    "\n",
    "import plotly.graph_objects as go\n",
    "import plotly.express as px\n",
    "import matplotlib.pyplot as plt\n",
    "import seaborn as sns\n",
    "import geopandas as gpd\n",
    "import altair as alt\n",
    "from branca.colormap import LinearColormap\n",
    "from vega_datasets import data\n",
    "import folium\n",
    "from streamlit_folium import folium_static, st_folium\n",
    "\n",
    "import pmdarima as pm\n",
    "from pmdarima.pipeline import Pipeline\n",
    "from pmdarima.preprocessing import BoxCoxEndogTransformer\n",
    "from pmdarima.preprocessing import LogEndogTransformer\n",
    "from sklearn.metrics import r2_score, mean_absolute_error, mean_absolute_percentage_error, root_mean_squared_error, mean_squared_error\n",
    "\n",
    "import tensorflow as tf\n",
    "from tensorflow.keras.saving import load_model\n",
    "from joblib import dump, load\n",
    "from sklearn.preprocessing import MinMaxScaler\n",
    "\n",
    "import random\n",
    "\n",
    "import warnings\n",
    "warnings.filterwarnings('ignore')\n",
    "\n",
    "root = '.'\n",
    "#root = 'streamlit'\n",
    "\n",
    "# Liste des zones d'emploi\n",
    "df_zones = pd.read_csv(f'{root}/data/processed/dvm/dvm_par_zone/zone_name.csv')\n",
    "path_dvm = f'{root}/data/processed/dvm/dvm_par_zone'\n",
    "path_models_dvm = f'{root}/data/processed/dvm/models'\n",
    "\n",
    "# Récupération map\n",
    "geo_zone_emploi = gpd.read_file('./data/referentiels/geojson/zone_emploi_idf_normandie.geojson')\n",
    "geo_zone_emploi = geo_zone_emploi.set_index('libze2020')\n",
    "\n",
    "# Récupération map nombre indicateur durée de vie moyenne entre 2011-2015 et 2016-2020\n",
    "geo_dvm_2020 = gpd.read_file(f'{path_dvm}/geo_dvm_communes_idf_normandie_2020.geojson')\n",
    "geo_dvm_2020 = geo_dvm_2020.set_index('nom')\n",
    "\n",
    "# renvoi le dataframe de la durée de vie moyenne d'une zone d'emploi\n",
    "def get_dvm_per_zone(zone_emploi) :\n",
    "    df_zone = pd.read_csv(f'{path_dvm}/dvm_{zone_emploi}.csv')\n",
    "    df_zone = df_zone.ffill()\n",
    "    return df_zone\n",
    "\n",
    "\n",
    "# Renvoi une liste de toutes les zones d'emploi\n",
    "def get_list_zone_emploi():\n",
    "    return df_zones['zone_name'].value_counts().reset_index()['zone_name'].to_list()\n",
    "\n",
    "# Renvoi un pointeur d'affichage des durées de vie pour les zones d'emploi selectionnées\n",
    "def display_dvm(selected) :\n",
    "\n",
    "    list_dvm = []\n",
    "    for zone_emploi in selected :\n",
    "        df = pd.read_csv(f'{path_dvm}/dvm_{zone_emploi}.csv')\n",
    "        df = df.rename(columns={\"duree_observation_etab\": zone_emploi, \"dateDebut\" : \"Années\"})\n",
    "\n",
    "        if 'df_final' in locals():\n",
    "            df_final = df_final.merge(df, on='Années', how='inner')\n",
    "        else :\n",
    "            df_final = df.copy()\n",
    "    \n",
    "    fig = px.line(df_final, x='Années', y=selected)\n",
    "    \n",
    "    return fig\n",
    "\n",
    "# Affiche une carte des communes et des données d'évolution de la durée de vie moyenne\n",
    "def display_map() :\n",
    "\n",
    "    fig = px.choropleth(geo_zone_emploi,\n",
    "                   geojson=geo_zone_emploi.geometry,\n",
    "                   locations=geo_zone_emploi.index,\n",
    "                   color=\"nb_com\",\n",
    "                   color_continuous_scale=\"Viridis\",\n",
    "                   projection=\"mercator\")\n",
    "    \n",
    "    fig.update_layout(margin={\"r\":0,\"t\":0,\"l\":0,\"b\":0})\n",
    "    fig.update_geos(fitbounds=\"locations\", visible=False)\n",
    "\n",
    "    return fig\n",
    "\n",
    "# Affiche les données associées au ratio la durée de vie moyenne entre 2011-2015 et 2016-2020\n",
    "def display_dvm_2020(pow) :    \n",
    "\n",
    "    fig = px.choropleth(geo_dvm_2020,\n",
    "                   geojson=geo_dvm_2020.geometry,\n",
    "                   locations=geo_dvm_2020.index,\n",
    "                   color=\"indicateur_dvm\",\n",
    "                   range_color=[0.5,1.5],\n",
    "                   color_continuous_scale=\"viridis\",\n",
    "                   projection=\"mercator\")\n",
    "    \n",
    "    fig.update_layout(margin={\"r\":0,\"t\":0,\"l\":0,\"b\":0})\n",
    "    fig.update_geos(fitbounds=\"locations\", visible=False)\n",
    "\n",
    "    return fig"
   ]
  },
  {
   "cell_type": "code",
   "execution_count": 5,
   "metadata": {},
   "outputs": [],
   "source": [
    "# Affiche les prédictions\n",
    "def display_lstm_bi_prediction(zone_emploi, n_forecast, sequence_type='lowseq') :\n",
    "\n",
    "    # Récupération du modèle\n",
    "    loaded_model = load_model(f'{path_models_dvm}/rnn_lstm_bi_{sequence_type}_{zone_emploi}.keras')\n",
    "    df_dvm = get_dvm_per_zone(zone_emploi)\n",
    "\n",
    "    if sequence_type == 'lowseq' :\n",
    "        sequence_length = 5\n",
    "    else :\n",
    "        sequence_length = 12 \n",
    "\n",
    "    __, X_test, __, __, __ = build_scaled_train_test(df_dvm['duree_observation_etab'], n_forecast, sequence_length)\n",
    "\n",
    "    X_test = X_test[:n_forecast]\n",
    "    y_pred = loaded_model.predict(X_test)\n",
    "    fig = display_prediction_over_test(df_dvm, y_pred, n_forecast)\n",
    "\n",
    "    return fig\n",
    "\n",
    "# Affiche les prédictions sarima log\n",
    "def display_sarima_log(zone_emploi, n_forecast, type) :\n",
    "\n",
    "    # Récupération du modèle\n",
    "    loaded_model = load(f'{path_models_dvm}/sarima_{type}_{zone_emploi}')\n",
    "    df_dvm = get_dvm_per_zone(zone_emploi)\n",
    "    \n",
    "    y_pred = loaded_model.predict(n_periods=n_forecast).values\n",
    "    fig = display_prediction_over_test(df_dvm, y_pred, n_forecast)\n",
    "\n",
    "    return fig\n",
    "\n",
    "# Transformation des données et split ( normalisation )\n",
    "def build_scaled_train_test(serie, forecast, LOOK_BACK) :\n",
    "\n",
    "    X1, y1 = df_to_X_y(serie, LOOK_BACK)\n",
    "    shift = (len(serie) - forecast) - LOOK_BACK\n",
    "\n",
    "    X_train, y_train = X1[:shift], y1[:shift]\n",
    "    X_test, y_test = X1[shift:], y1[shift:]\n",
    "\n",
    "    # Reshape des tableaux avant la normalisation \n",
    "    X_train = X_train.reshape(X_train.shape[0], LOOK_BACK)\n",
    "    X_test = X_test.reshape(X_test.shape[0], LOOK_BACK)\n",
    "\n",
    "    # Normalisation des données \n",
    "    scaler = MinMaxScaler(feature_range=(-1, 1))\n",
    "    X_train_scaled = scaler.fit_transform(X_train)\n",
    "    X_test_scaled = scaler.transform(X_test)\n",
    "\n",
    "    # Reshape des données normalisées en matrice\n",
    "    X_train = X_train_scaled.reshape(X_train.shape[0], LOOK_BACK, 1)\n",
    "    X_test = X_test_scaled.reshape(X_test.shape[0], LOOK_BACK, 1)\n",
    "\n",
    "    return X_train, X_test, y_train, y_test, scaler\n",
    "\n",
    "# Transformation en données supervisées ( lag )\n",
    "def df_to_X_y(df, window_size=5):\n",
    "  df_as_np = df.to_numpy()\n",
    "  X = []\n",
    "  y = []\n",
    "  for i in range(len(df_as_np)-window_size):\n",
    "    row = [[a] for a in df_as_np[i:i+window_size]]\n",
    "    X.append(row)\n",
    "    label = df_as_np[i+window_size]\n",
    "    y.append(label)\n",
    "  return np.array(X), np.array(y)\n",
    "\n",
    "def display_prediction_over_test(df_duree_moyenne, y_pred, n_forecast) :\n",
    "\n",
    "    df_past = df_duree_moyenne[0:-60]\n",
    "    df_past = df_past.rename(columns={\"duree_observation_etab\": \"values\"})    \n",
    "    y_test = np.array(df_duree_moyenne[df_past.shape[0]:(df_past.shape[0]+n_forecast)]['duree_observation_etab'])\n",
    "\n",
    "    df_future = pd.DataFrame(columns=['dateDebut','values'])\n",
    "    df_future['dateDebut'] = pd.date_range(start=df_past['dateDebut'].iloc[-1], freq ='M', periods=n_forecast+1)\n",
    "    df_future.drop(0, inplace=True)\n",
    "    df_future['dateDebut'] = pd.to_datetime(df_future['dateDebut'])\n",
    "    df_future['dateDebut'] = df_future['dateDebut'].dt.strftime('%Y-%m')\n",
    "    df_future['values'] = y_pred\n",
    "\n",
    "    df_test = pd.DataFrame(columns=['dateDebut','values'])\n",
    "    df_test['dateDebut'] = pd.date_range(start=df_past['dateDebut'].iloc[-1], freq ='M', periods=n_forecast+1)\n",
    "    df_test.drop(0, inplace=True)\n",
    "    df_test['dateDebut'] = pd.to_datetime(df_future['dateDebut'])\n",
    "    df_test['dateDebut'] = df_test['dateDebut'].dt.strftime('%Y-%m')\n",
    "    df_test['values'] = y_test\n",
    "\n",
    "    trace = go.Scatter(\n",
    "        x = df_past['dateDebut'],\n",
    "        mode='lines',\n",
    "        y=df_past['values'],\n",
    "        marker=dict(color='rgba(12, 124, 32, 0.5)'),\n",
    "        name='duree moyenne'\n",
    "        )  \n",
    "        \n",
    "    trace1 = go.Scatter(\n",
    "            x = df_future['dateDebut'],\n",
    "            mode='lines',\n",
    "            y=df_future['values'],\n",
    "            marker=dict(color='blue'),\n",
    "            name='duree moyenne predite'\n",
    "        )\n",
    "\n",
    "    trace2 = go.Scatter(\n",
    "            x = df_test['dateDebut'],\n",
    "            mode='lines',\n",
    "            y=df_test['values'],\n",
    "            marker=dict(color='red'),\n",
    "            name='duree moyenne réelle'\n",
    "        )\n",
    "\n",
    "    layout = dict(title=f'Forecast sur {n_forecast} mois - comparaison avec données de test')\n",
    "    data = [trace, trace1, trace2]\n",
    "    fig = dict(data=data, layout=layout)\n",
    "\n",
    "    return fig\n",
    "\n",
    "\n",
    "def calculate_metrique() :\n",
    "        \n",
    "    df_metriques_dvm = pd.DataFrame(columns = ['ze', 'sarima_mape', 'sarima_rmse', 'sarima_ratio', 'lstm_bi_mape', 'lstm_bi_rmse', 'lstm_bi_ratio'])\n",
    "      \n",
    "    # pour chaque zone\n",
    "    for zone in get_list_zone_emploi() :\n",
    "        df_file_zone = get_dvm_per_zone(zone)\n",
    "        df_file_zone = df_file_zone.ffill()\n",
    "\n",
    "        # sarima\n",
    "        loaded_model_sarima = load(f'{path_models_dvm}/sarima_prediction_log_{zone_emploi}')\n",
    "        \n",
    "        y_pred = loaded_model_sarima.predict(n_periods=60).values\n",
    "        df_past = df_file_zone[0:-60]\n",
    "        y_test = np.array(df_file_zone[df_past.shape[0]:(df_past.shape[0]+60)]['duree_observation_etab'])\n",
    "\n",
    "        r2_value_sarima = r2_score(y_test, y_pred)\n",
    "        mape_value_sarima = mean_absolute_percentage_error(y_test, y_pred)\n",
    "        rmse_value_sarima = root_mean_squared_error(y_test, y_pred)\n",
    "        ratio_value_sarima = (y_pred / y_test).mean()\n",
    "\n",
    "        \n",
    "        #LSTM bidirectionnel    \n",
    "        loaded_model_lstm_bi = load_model(f'{path_models_dvm}/rnn_lstm_bi_highseq_{zone}.keras')\n",
    "\n",
    "        __, X_test, __, __, __ = build_scaled_train_test(df_file_zone['duree_observation_etab'], 60, 12)\n",
    "\n",
    "        X_test = X_test[:60]\n",
    "        y_pred = loaded_model_lstm_bi.predict(X_test)\n",
    "        \n",
    "        r2_value_lstm = r2_score(y_test, y_pred)\n",
    "        mape_value_lstm = mean_absolute_percentage_error(y_test, y_pred)\n",
    "        rmse_value_lstm = root_mean_squared_error(y_test, y_pred)\n",
    "        ratio_value_lstm = (y_pred / y_test).mean()\n",
    "\n",
    "        df_metriques_dvm = df_metriques_dvm._append({'ze': zone, 'sarima_mape': mape_value_sarima, 'sarima_rmse': rmse_value_sarima, 'sarima_ratio' : ratio_value_sarima,\n",
    "                                                                'lstm_bi_mape' : mape_value_lstm, 'lstm_bi_rmse' : rmse_value_lstm, 'lstm_bi_ratio' : ratio_value_lstm}, ignore_index=True)\n",
    "        \n",
    "\n",
    "    return df_metriques_dvm\n",
    "\n",
    "    "
   ]
  },
  {
   "cell_type": "code",
   "execution_count": 6,
   "metadata": {},
   "outputs": [
    {
     "data": {
      "application/vnd.plotly.v1+json": {
       "config": {
        "plotlyServerURL": "https://plot.ly"
       },
       "data": [
        {
         "hovertemplate": "variable=sarima_mape<br>ze=%{x}<br>value=%{y}<extra></extra>",
         "legendgroup": "sarima_mape",
         "line": {
          "color": "#636efa",
          "dash": "solid"
         },
         "marker": {
          "symbol": "circle"
         },
         "mode": "lines",
         "name": "sarima_mape",
         "orientation": "v",
         "showlegend": true,
         "type": "scatter",
         "x": [
          "Rouen",
          "Evry",
          "Dreux",
          "Beauvais",
          "Paris",
          "Roissy",
          "Seine-Yvelinoise",
          "Versailles-Saint-Quentin",
          "Cergy-Vexin",
          "Saclay",
          "La Vallée de la Bresle-Vimeu",
          "Marne-la-Vallée",
          "Fontainebleau-Nemours",
          "Meaux",
          "Melun",
          "Etampes",
          "Rambouillet",
          "Coulommiers",
          "Nogent-le-Rotrou",
          "Vire Normandie",
          "Caen",
          "Flers",
          "Le Havre",
          "Evreux",
          "Cherbourg en Cotentin",
          "Dieppe-Caux maritime",
          "Honfleur Pont-Audemer",
          "Vernon-Gisors",
          "Saint-Lô",
          "Avranches",
          "Argentan",
          "Alençon",
          "Lisieux",
          "Yvetot-Vallée du Commerce",
          "Coutances",
          "Bernay",
          "Granville",
          "L'Aigle",
          "Provins"
         ],
         "xaxis": "x",
         "y": [
          0.102012485614982,
          0.2615226334999322,
          0.3044972128238395,
          0.4093143593554466,
          0.3463834346901435,
          0.3625233688093803,
          0.2344656755007206,
          0.2119691406752556,
          0.3148392658415523,
          0.2405874450014367,
          0.2652246466427562,
          0.2661642116260251,
          0.1153640106577855,
          0.2138862341167309,
          0.2170095347164315,
          0.1763472617268286,
          0.1475121658637762,
          0.2100946338741511,
          0.330861953363122,
          0.2712436321173514,
          0.1008343719005414,
          0.2519462295402087,
          0.1277738191646424,
          0.1254844070923295,
          0.2032844980952036,
          0.1815441140702481,
          0.1369562077236113,
          0.1325459117204151,
          0.2564356281941483,
          0.2711013893839709,
          0.2580766832552604,
          0.2382639904936767,
          0.1903475743546598,
          0.1879444055922912,
          0.3050043714417667,
          0.2361538074770954,
          0.1952314265326509,
          0.2561145515039238,
          0.2018647611246335
         ],
         "yaxis": "y"
        },
        {
         "hovertemplate": "variable=sarima_rmse<br>ze=%{x}<br>value=%{y}<extra></extra>",
         "legendgroup": "sarima_rmse",
         "line": {
          "color": "#EF553B",
          "dash": "solid"
         },
         "marker": {
          "symbol": "circle"
         },
         "mode": "lines",
         "name": "sarima_rmse",
         "orientation": "v",
         "showlegend": true,
         "type": "scatter",
         "x": [
          "Rouen",
          "Evry",
          "Dreux",
          "Beauvais",
          "Paris",
          "Roissy",
          "Seine-Yvelinoise",
          "Versailles-Saint-Quentin",
          "Cergy-Vexin",
          "Saclay",
          "La Vallée de la Bresle-Vimeu",
          "Marne-la-Vallée",
          "Fontainebleau-Nemours",
          "Meaux",
          "Melun",
          "Etampes",
          "Rambouillet",
          "Coulommiers",
          "Nogent-le-Rotrou",
          "Vire Normandie",
          "Caen",
          "Flers",
          "Le Havre",
          "Evreux",
          "Cherbourg en Cotentin",
          "Dieppe-Caux maritime",
          "Honfleur Pont-Audemer",
          "Vernon-Gisors",
          "Saint-Lô",
          "Avranches",
          "Argentan",
          "Alençon",
          "Lisieux",
          "Yvetot-Vallée du Commerce",
          "Coutances",
          "Bernay",
          "Granville",
          "L'Aigle",
          "Provins"
         ],
         "xaxis": "x",
         "y": [
          0.9114548014131364,
          1.709426103115628,
          2.461676841467835,
          4.704115361093178,
          1.8721223091609331,
          1.916092084805671,
          1.4227737231834163,
          1.3170262922977802,
          1.7294961143409195,
          1.782298862411091,
          4.237741857176828,
          1.7818638792469927,
          1.0834198455280974,
          2.230022949754915,
          1.395975255524102,
          2.1639576618046377,
          1.1374038445000831,
          2.594251922740218,
          3.6709133171810535,
          3.467142640567501,
          0.7906873609894348,
          3.107590912302152,
          1.5713902863358165,
          1.1354714370962866,
          2.69792266691852,
          1.8828661411816676,
          1.3252083176040317,
          1.317418831979077,
          3.013899301790403,
          3.796643900316648,
          3.644432446162579,
          2.9794363014009675,
          1.985054120611157,
          2.353119372113447,
          3.9696390655714127,
          2.9396412615483207,
          2.470019084200666,
          3.137456013585484,
          1.983956599512442
         ],
         "yaxis": "y"
        },
        {
         "hovertemplate": "variable=sarima_ratio<br>ze=%{x}<br>value=%{y}<extra></extra>",
         "legendgroup": "sarima_ratio",
         "line": {
          "color": "#00cc96",
          "dash": "solid"
         },
         "marker": {
          "symbol": "circle"
         },
         "mode": "lines",
         "name": "sarima_ratio",
         "orientation": "v",
         "showlegend": true,
         "type": "scatter",
         "x": [
          "Rouen",
          "Evry",
          "Dreux",
          "Beauvais",
          "Paris",
          "Roissy",
          "Seine-Yvelinoise",
          "Versailles-Saint-Quentin",
          "Cergy-Vexin",
          "Saclay",
          "La Vallée de la Bresle-Vimeu",
          "Marne-la-Vallée",
          "Fontainebleau-Nemours",
          "Meaux",
          "Melun",
          "Etampes",
          "Rambouillet",
          "Coulommiers",
          "Nogent-le-Rotrou",
          "Vire Normandie",
          "Caen",
          "Flers",
          "Le Havre",
          "Evreux",
          "Cherbourg en Cotentin",
          "Dieppe-Caux maritime",
          "Honfleur Pont-Audemer",
          "Vernon-Gisors",
          "Saint-Lô",
          "Avranches",
          "Argentan",
          "Alençon",
          "Lisieux",
          "Yvetot-Vallée du Commerce",
          "Coutances",
          "Bernay",
          "Granville",
          "L'Aigle",
          "Provins"
         ],
         "xaxis": "x",
         "y": [
          1.0653106223923443,
          1.227953002243107,
          1.0858738822480418,
          0.8884965602891007,
          1.3301491307139914,
          1.354918138213416,
          1.233836349837314,
          1.2119691406752555,
          1.3148392658415524,
          1.1965785403448763,
          0.8157403749627015,
          1.2119007580650645,
          1.049935640747561,
          1.08404409267639,
          1.1865106538947812,
          0.998295362884507,
          1.0510983769642297,
          0.9858432882617492,
          0.9035992882073972,
          0.811344241351314,
          1.0805910942381804,
          0.7682753330977039,
          1.0035387542932763,
          0.9283942829001472,
          0.8116910800694598,
          0.8703866688681642,
          0.9431048827043594,
          0.9835873466556936,
          0.7659744357957821,
          0.729575263603546,
          0.7725973414749147,
          0.7714627705413212,
          0.8991829572108189,
          0.853494938045037,
          0.7027890368329537,
          0.8080132111181425,
          0.8527506079238922,
          0.8147442393330747,
          0.934667962764615
         ],
         "yaxis": "y"
        },
        {
         "hovertemplate": "variable=lstm_bi_mape<br>ze=%{x}<br>value=%{y}<extra></extra>",
         "legendgroup": "lstm_bi_mape",
         "line": {
          "color": "#ab63fa",
          "dash": "solid"
         },
         "marker": {
          "symbol": "circle"
         },
         "mode": "lines",
         "name": "lstm_bi_mape",
         "orientation": "v",
         "showlegend": true,
         "type": "scatter",
         "x": [
          "Rouen",
          "Evry",
          "Dreux",
          "Beauvais",
          "Paris",
          "Roissy",
          "Seine-Yvelinoise",
          "Versailles-Saint-Quentin",
          "Cergy-Vexin",
          "Saclay",
          "La Vallée de la Bresle-Vimeu",
          "Marne-la-Vallée",
          "Fontainebleau-Nemours",
          "Meaux",
          "Melun",
          "Etampes",
          "Rambouillet",
          "Coulommiers",
          "Nogent-le-Rotrou",
          "Vire Normandie",
          "Caen",
          "Flers",
          "Le Havre",
          "Evreux",
          "Cherbourg en Cotentin",
          "Dieppe-Caux maritime",
          "Honfleur Pont-Audemer",
          "Vernon-Gisors",
          "Saint-Lô",
          "Avranches",
          "Argentan",
          "Alençon",
          "Lisieux",
          "Yvetot-Vallée du Commerce",
          "Coutances",
          "Bernay",
          "Granville",
          "L'Aigle",
          "Provins"
         ],
         "xaxis": "x",
         "y": [
          0.0800703678058463,
          0.1447387105599304,
          0.4608842529323607,
          0.53063389293249,
          0.1064444990674138,
          0.1025838950329398,
          0.1008293632581712,
          0.1124540649314366,
          0.0770923971126074,
          0.1608904527228314,
          0.3055032395364656,
          0.1313506089620033,
          0.1162145539416341,
          0.2296256963057432,
          0.1330174146907947,
          0.2506172867233924,
          0.2209278452272615,
          0.2859292930058439,
          0.472016859284569,
          0.3540595338115,
          0.1364276844655354,
          0.2756656908605894,
          0.2035458858707325,
          0.1464342899793177,
          0.2101537288603748,
          0.2076447971858731,
          0.1897312311544817,
          0.1740710394124981,
          0.1858827796880648,
          0.2078189321300977,
          0.2519571868828835,
          0.255858593225591,
          0.261855711332114,
          0.1964351539676731,
          0.2058229475068452,
          0.2709064471150407,
          0.2624794498296157,
          0.425087053865073,
          0.1805365482355927
         ],
         "yaxis": "y"
        },
        {
         "hovertemplate": "variable=lstm_bi_rmse<br>ze=%{x}<br>value=%{y}<extra></extra>",
         "legendgroup": "lstm_bi_rmse",
         "line": {
          "color": "#FFA15A",
          "dash": "solid"
         },
         "marker": {
          "symbol": "circle"
         },
         "mode": "lines",
         "name": "lstm_bi_rmse",
         "orientation": "v",
         "showlegend": true,
         "type": "scatter",
         "x": [
          "Rouen",
          "Evry",
          "Dreux",
          "Beauvais",
          "Paris",
          "Roissy",
          "Seine-Yvelinoise",
          "Versailles-Saint-Quentin",
          "Cergy-Vexin",
          "Saclay",
          "La Vallée de la Bresle-Vimeu",
          "Marne-la-Vallée",
          "Fontainebleau-Nemours",
          "Meaux",
          "Melun",
          "Etampes",
          "Rambouillet",
          "Coulommiers",
          "Nogent-le-Rotrou",
          "Vire Normandie",
          "Caen",
          "Flers",
          "Le Havre",
          "Evreux",
          "Cherbourg en Cotentin",
          "Dieppe-Caux maritime",
          "Honfleur Pont-Audemer",
          "Vernon-Gisors",
          "Saint-Lô",
          "Avranches",
          "Argentan",
          "Alençon",
          "Lisieux",
          "Yvetot-Vallée du Commerce",
          "Coutances",
          "Bernay",
          "Granville",
          "L'Aigle",
          "Provins"
         ],
         "xaxis": "x",
         "y": [
          0.7656703151082077,
          1.4515853434695434,
          3.820605818131816,
          4.705885602934383,
          0.8734960927159074,
          0.737320557567911,
          0.7366097121785017,
          0.7467139276147745,
          0.5290130850079504,
          1.971997204173831,
          3.7534927809030414,
          1.4590868763823497,
          1.1155943204491137,
          2.5792820246260173,
          1.0010784157309376,
          2.401554242909044,
          1.741488679437004,
          2.895980528880501,
          4.207705800582297,
          3.2549560570452987,
          1.0941983618419633,
          2.8024865303348325,
          1.999656530500117,
          1.313480973276269,
          2.4787877539254217,
          1.847180584079048,
          1.7328632570837648,
          1.5782434518641262,
          2.076423655687388,
          2.326882001486647,
          2.874222819996921,
          2.8571945899592213,
          2.3698984616761734,
          2.176854636940196,
          2.598353199323531,
          2.961869575313949,
          2.5756726604008424,
          4.175934017580714,
          1.756179999687462
         ],
         "yaxis": "y"
        },
        {
         "hovertemplate": "variable=lstm_bi_ratio<br>ze=%{x}<br>value=%{y}<extra></extra>",
         "legendgroup": "lstm_bi_ratio",
         "line": {
          "color": "#19d3f3",
          "dash": "solid"
         },
         "marker": {
          "symbol": "circle"
         },
         "mode": "lines",
         "name": "lstm_bi_ratio",
         "orientation": "v",
         "showlegend": true,
         "type": "scatter",
         "x": [
          "Rouen",
          "Evry",
          "Dreux",
          "Beauvais",
          "Paris",
          "Roissy",
          "Seine-Yvelinoise",
          "Versailles-Saint-Quentin",
          "Cergy-Vexin",
          "Saclay",
          "La Vallée de la Bresle-Vimeu",
          "Marne-la-Vallée",
          "Fontainebleau-Nemours",
          "Meaux",
          "Melun",
          "Etampes",
          "Rambouillet",
          "Coulommiers",
          "Nogent-le-Rotrou",
          "Vire Normandie",
          "Caen",
          "Flers",
          "Le Havre",
          "Evreux",
          "Cherbourg en Cotentin",
          "Dieppe-Caux maritime",
          "Honfleur Pont-Audemer",
          "Vernon-Gisors",
          "Saint-Lô",
          "Avranches",
          "Argentan",
          "Alençon",
          "Lisieux",
          "Yvetot-Vallée du Commerce",
          "Coutances",
          "Bernay",
          "Granville",
          "L'Aigle",
          "Provins"
         ],
         "xaxis": "x",
         "y": [
          0.9964099618929394,
          1.0118952616370336,
          1.1764180127984527,
          1.1532100234379077,
          0.9813604464793394,
          1.0250460778134511,
          0.9766879456552436,
          1.0333102019950997,
          1.0068671249713483,
          0.9360603675286354,
          1.1000407853351155,
          0.9733591655250448,
          1.0375310258510548,
          0.954023581132458,
          1.0364992226135283,
          1.0622321582381606,
          0.9934105200318364,
          0.9933751460624268,
          1.2305709354015608,
          1.1995783752000209,
          1.042981646103018,
          1.0843378737500415,
          1.07680974625709,
          1.0301071900053302,
          1.0516647409324833,
          1.0827866282622889,
          1.038224009390988,
          1.0112466102738786,
          1.0715468674583573,
          1.1146696555468194,
          1.090392995670603,
          1.0440906293638776,
          1.0760939641310223,
          1.0312430828789765,
          1.0120886277225625,
          1.0341133640258302,
          1.047176947294252,
          1.2036922004600297,
          1.016783334717937
         ],
         "yaxis": "y"
        }
       ],
       "layout": {
        "legend": {
         "title": {
          "text": "variable"
         },
         "tracegroupgap": 0
        },
        "margin": {
         "t": 60
        },
        "template": {
         "data": {
          "bar": [
           {
            "error_x": {
             "color": "#2a3f5f"
            },
            "error_y": {
             "color": "#2a3f5f"
            },
            "marker": {
             "line": {
              "color": "#E5ECF6",
              "width": 0.5
             },
             "pattern": {
              "fillmode": "overlay",
              "size": 10,
              "solidity": 0.2
             }
            },
            "type": "bar"
           }
          ],
          "barpolar": [
           {
            "marker": {
             "line": {
              "color": "#E5ECF6",
              "width": 0.5
             },
             "pattern": {
              "fillmode": "overlay",
              "size": 10,
              "solidity": 0.2
             }
            },
            "type": "barpolar"
           }
          ],
          "carpet": [
           {
            "aaxis": {
             "endlinecolor": "#2a3f5f",
             "gridcolor": "white",
             "linecolor": "white",
             "minorgridcolor": "white",
             "startlinecolor": "#2a3f5f"
            },
            "baxis": {
             "endlinecolor": "#2a3f5f",
             "gridcolor": "white",
             "linecolor": "white",
             "minorgridcolor": "white",
             "startlinecolor": "#2a3f5f"
            },
            "type": "carpet"
           }
          ],
          "choropleth": [
           {
            "colorbar": {
             "outlinewidth": 0,
             "ticks": ""
            },
            "type": "choropleth"
           }
          ],
          "contour": [
           {
            "colorbar": {
             "outlinewidth": 0,
             "ticks": ""
            },
            "colorscale": [
             [
              0,
              "#0d0887"
             ],
             [
              0.1111111111111111,
              "#46039f"
             ],
             [
              0.2222222222222222,
              "#7201a8"
             ],
             [
              0.3333333333333333,
              "#9c179e"
             ],
             [
              0.4444444444444444,
              "#bd3786"
             ],
             [
              0.5555555555555556,
              "#d8576b"
             ],
             [
              0.6666666666666666,
              "#ed7953"
             ],
             [
              0.7777777777777778,
              "#fb9f3a"
             ],
             [
              0.8888888888888888,
              "#fdca26"
             ],
             [
              1,
              "#f0f921"
             ]
            ],
            "type": "contour"
           }
          ],
          "contourcarpet": [
           {
            "colorbar": {
             "outlinewidth": 0,
             "ticks": ""
            },
            "type": "contourcarpet"
           }
          ],
          "heatmap": [
           {
            "colorbar": {
             "outlinewidth": 0,
             "ticks": ""
            },
            "colorscale": [
             [
              0,
              "#0d0887"
             ],
             [
              0.1111111111111111,
              "#46039f"
             ],
             [
              0.2222222222222222,
              "#7201a8"
             ],
             [
              0.3333333333333333,
              "#9c179e"
             ],
             [
              0.4444444444444444,
              "#bd3786"
             ],
             [
              0.5555555555555556,
              "#d8576b"
             ],
             [
              0.6666666666666666,
              "#ed7953"
             ],
             [
              0.7777777777777778,
              "#fb9f3a"
             ],
             [
              0.8888888888888888,
              "#fdca26"
             ],
             [
              1,
              "#f0f921"
             ]
            ],
            "type": "heatmap"
           }
          ],
          "heatmapgl": [
           {
            "colorbar": {
             "outlinewidth": 0,
             "ticks": ""
            },
            "colorscale": [
             [
              0,
              "#0d0887"
             ],
             [
              0.1111111111111111,
              "#46039f"
             ],
             [
              0.2222222222222222,
              "#7201a8"
             ],
             [
              0.3333333333333333,
              "#9c179e"
             ],
             [
              0.4444444444444444,
              "#bd3786"
             ],
             [
              0.5555555555555556,
              "#d8576b"
             ],
             [
              0.6666666666666666,
              "#ed7953"
             ],
             [
              0.7777777777777778,
              "#fb9f3a"
             ],
             [
              0.8888888888888888,
              "#fdca26"
             ],
             [
              1,
              "#f0f921"
             ]
            ],
            "type": "heatmapgl"
           }
          ],
          "histogram": [
           {
            "marker": {
             "pattern": {
              "fillmode": "overlay",
              "size": 10,
              "solidity": 0.2
             }
            },
            "type": "histogram"
           }
          ],
          "histogram2d": [
           {
            "colorbar": {
             "outlinewidth": 0,
             "ticks": ""
            },
            "colorscale": [
             [
              0,
              "#0d0887"
             ],
             [
              0.1111111111111111,
              "#46039f"
             ],
             [
              0.2222222222222222,
              "#7201a8"
             ],
             [
              0.3333333333333333,
              "#9c179e"
             ],
             [
              0.4444444444444444,
              "#bd3786"
             ],
             [
              0.5555555555555556,
              "#d8576b"
             ],
             [
              0.6666666666666666,
              "#ed7953"
             ],
             [
              0.7777777777777778,
              "#fb9f3a"
             ],
             [
              0.8888888888888888,
              "#fdca26"
             ],
             [
              1,
              "#f0f921"
             ]
            ],
            "type": "histogram2d"
           }
          ],
          "histogram2dcontour": [
           {
            "colorbar": {
             "outlinewidth": 0,
             "ticks": ""
            },
            "colorscale": [
             [
              0,
              "#0d0887"
             ],
             [
              0.1111111111111111,
              "#46039f"
             ],
             [
              0.2222222222222222,
              "#7201a8"
             ],
             [
              0.3333333333333333,
              "#9c179e"
             ],
             [
              0.4444444444444444,
              "#bd3786"
             ],
             [
              0.5555555555555556,
              "#d8576b"
             ],
             [
              0.6666666666666666,
              "#ed7953"
             ],
             [
              0.7777777777777778,
              "#fb9f3a"
             ],
             [
              0.8888888888888888,
              "#fdca26"
             ],
             [
              1,
              "#f0f921"
             ]
            ],
            "type": "histogram2dcontour"
           }
          ],
          "mesh3d": [
           {
            "colorbar": {
             "outlinewidth": 0,
             "ticks": ""
            },
            "type": "mesh3d"
           }
          ],
          "parcoords": [
           {
            "line": {
             "colorbar": {
              "outlinewidth": 0,
              "ticks": ""
             }
            },
            "type": "parcoords"
           }
          ],
          "pie": [
           {
            "automargin": true,
            "type": "pie"
           }
          ],
          "scatter": [
           {
            "fillpattern": {
             "fillmode": "overlay",
             "size": 10,
             "solidity": 0.2
            },
            "type": "scatter"
           }
          ],
          "scatter3d": [
           {
            "line": {
             "colorbar": {
              "outlinewidth": 0,
              "ticks": ""
             }
            },
            "marker": {
             "colorbar": {
              "outlinewidth": 0,
              "ticks": ""
             }
            },
            "type": "scatter3d"
           }
          ],
          "scattercarpet": [
           {
            "marker": {
             "colorbar": {
              "outlinewidth": 0,
              "ticks": ""
             }
            },
            "type": "scattercarpet"
           }
          ],
          "scattergeo": [
           {
            "marker": {
             "colorbar": {
              "outlinewidth": 0,
              "ticks": ""
             }
            },
            "type": "scattergeo"
           }
          ],
          "scattergl": [
           {
            "marker": {
             "colorbar": {
              "outlinewidth": 0,
              "ticks": ""
             }
            },
            "type": "scattergl"
           }
          ],
          "scattermapbox": [
           {
            "marker": {
             "colorbar": {
              "outlinewidth": 0,
              "ticks": ""
             }
            },
            "type": "scattermapbox"
           }
          ],
          "scatterpolar": [
           {
            "marker": {
             "colorbar": {
              "outlinewidth": 0,
              "ticks": ""
             }
            },
            "type": "scatterpolar"
           }
          ],
          "scatterpolargl": [
           {
            "marker": {
             "colorbar": {
              "outlinewidth": 0,
              "ticks": ""
             }
            },
            "type": "scatterpolargl"
           }
          ],
          "scatterternary": [
           {
            "marker": {
             "colorbar": {
              "outlinewidth": 0,
              "ticks": ""
             }
            },
            "type": "scatterternary"
           }
          ],
          "surface": [
           {
            "colorbar": {
             "outlinewidth": 0,
             "ticks": ""
            },
            "colorscale": [
             [
              0,
              "#0d0887"
             ],
             [
              0.1111111111111111,
              "#46039f"
             ],
             [
              0.2222222222222222,
              "#7201a8"
             ],
             [
              0.3333333333333333,
              "#9c179e"
             ],
             [
              0.4444444444444444,
              "#bd3786"
             ],
             [
              0.5555555555555556,
              "#d8576b"
             ],
             [
              0.6666666666666666,
              "#ed7953"
             ],
             [
              0.7777777777777778,
              "#fb9f3a"
             ],
             [
              0.8888888888888888,
              "#fdca26"
             ],
             [
              1,
              "#f0f921"
             ]
            ],
            "type": "surface"
           }
          ],
          "table": [
           {
            "cells": {
             "fill": {
              "color": "#EBF0F8"
             },
             "line": {
              "color": "white"
             }
            },
            "header": {
             "fill": {
              "color": "#C8D4E3"
             },
             "line": {
              "color": "white"
             }
            },
            "type": "table"
           }
          ]
         },
         "layout": {
          "annotationdefaults": {
           "arrowcolor": "#2a3f5f",
           "arrowhead": 0,
           "arrowwidth": 1
          },
          "autotypenumbers": "strict",
          "coloraxis": {
           "colorbar": {
            "outlinewidth": 0,
            "ticks": ""
           }
          },
          "colorscale": {
           "diverging": [
            [
             0,
             "#8e0152"
            ],
            [
             0.1,
             "#c51b7d"
            ],
            [
             0.2,
             "#de77ae"
            ],
            [
             0.3,
             "#f1b6da"
            ],
            [
             0.4,
             "#fde0ef"
            ],
            [
             0.5,
             "#f7f7f7"
            ],
            [
             0.6,
             "#e6f5d0"
            ],
            [
             0.7,
             "#b8e186"
            ],
            [
             0.8,
             "#7fbc41"
            ],
            [
             0.9,
             "#4d9221"
            ],
            [
             1,
             "#276419"
            ]
           ],
           "sequential": [
            [
             0,
             "#0d0887"
            ],
            [
             0.1111111111111111,
             "#46039f"
            ],
            [
             0.2222222222222222,
             "#7201a8"
            ],
            [
             0.3333333333333333,
             "#9c179e"
            ],
            [
             0.4444444444444444,
             "#bd3786"
            ],
            [
             0.5555555555555556,
             "#d8576b"
            ],
            [
             0.6666666666666666,
             "#ed7953"
            ],
            [
             0.7777777777777778,
             "#fb9f3a"
            ],
            [
             0.8888888888888888,
             "#fdca26"
            ],
            [
             1,
             "#f0f921"
            ]
           ],
           "sequentialminus": [
            [
             0,
             "#0d0887"
            ],
            [
             0.1111111111111111,
             "#46039f"
            ],
            [
             0.2222222222222222,
             "#7201a8"
            ],
            [
             0.3333333333333333,
             "#9c179e"
            ],
            [
             0.4444444444444444,
             "#bd3786"
            ],
            [
             0.5555555555555556,
             "#d8576b"
            ],
            [
             0.6666666666666666,
             "#ed7953"
            ],
            [
             0.7777777777777778,
             "#fb9f3a"
            ],
            [
             0.8888888888888888,
             "#fdca26"
            ],
            [
             1,
             "#f0f921"
            ]
           ]
          },
          "colorway": [
           "#636efa",
           "#EF553B",
           "#00cc96",
           "#ab63fa",
           "#FFA15A",
           "#19d3f3",
           "#FF6692",
           "#B6E880",
           "#FF97FF",
           "#FECB52"
          ],
          "font": {
           "color": "#2a3f5f"
          },
          "geo": {
           "bgcolor": "white",
           "lakecolor": "white",
           "landcolor": "#E5ECF6",
           "showlakes": true,
           "showland": true,
           "subunitcolor": "white"
          },
          "hoverlabel": {
           "align": "left"
          },
          "hovermode": "closest",
          "mapbox": {
           "style": "light"
          },
          "paper_bgcolor": "white",
          "plot_bgcolor": "#E5ECF6",
          "polar": {
           "angularaxis": {
            "gridcolor": "white",
            "linecolor": "white",
            "ticks": ""
           },
           "bgcolor": "#E5ECF6",
           "radialaxis": {
            "gridcolor": "white",
            "linecolor": "white",
            "ticks": ""
           }
          },
          "scene": {
           "xaxis": {
            "backgroundcolor": "#E5ECF6",
            "gridcolor": "white",
            "gridwidth": 2,
            "linecolor": "white",
            "showbackground": true,
            "ticks": "",
            "zerolinecolor": "white"
           },
           "yaxis": {
            "backgroundcolor": "#E5ECF6",
            "gridcolor": "white",
            "gridwidth": 2,
            "linecolor": "white",
            "showbackground": true,
            "ticks": "",
            "zerolinecolor": "white"
           },
           "zaxis": {
            "backgroundcolor": "#E5ECF6",
            "gridcolor": "white",
            "gridwidth": 2,
            "linecolor": "white",
            "showbackground": true,
            "ticks": "",
            "zerolinecolor": "white"
           }
          },
          "shapedefaults": {
           "line": {
            "color": "#2a3f5f"
           }
          },
          "ternary": {
           "aaxis": {
            "gridcolor": "white",
            "linecolor": "white",
            "ticks": ""
           },
           "baxis": {
            "gridcolor": "white",
            "linecolor": "white",
            "ticks": ""
           },
           "bgcolor": "#E5ECF6",
           "caxis": {
            "gridcolor": "white",
            "linecolor": "white",
            "ticks": ""
           }
          },
          "title": {
           "x": 0.05
          },
          "xaxis": {
           "automargin": true,
           "gridcolor": "white",
           "linecolor": "white",
           "ticks": "",
           "title": {
            "standoff": 15
           },
           "zerolinecolor": "white",
           "zerolinewidth": 2
          },
          "yaxis": {
           "automargin": true,
           "gridcolor": "white",
           "linecolor": "white",
           "ticks": "",
           "title": {
            "standoff": 15
           },
           "zerolinecolor": "white",
           "zerolinewidth": 2
          }
         }
        },
        "xaxis": {
         "anchor": "y",
         "domain": [
          0,
          1
         ],
         "title": {
          "text": "ze"
         }
        },
        "yaxis": {
         "anchor": "x",
         "domain": [
          0,
          1
         ],
         "title": {
          "text": "value"
         }
        }
       }
      }
     },
     "metadata": {},
     "output_type": "display_data"
    },
    {
     "data": {
      "text/plain": [
       "<Figure size 1500x600 with 0 Axes>"
      ]
     },
     "metadata": {},
     "output_type": "display_data"
    }
   ],
   "source": [
    "def display_metrics_dvm() :\n",
    "    df_metrics_dvm = pd.read_csv(f'{path_dvm}/metrics_evaluation_lstm_sarima.csv')\n",
    "\n",
    "    plt.figure(figsize=(15,6))\n",
    "    df_melted = pd.melt(df_metrics_dvm, ['ze'])\n",
    "    fig = px.line(data_frame=df_melted, x='ze', y='value', color='variable')\n",
    "    \n",
    "    return fig\n",
    "\n",
    "display_metrics_dvm()"
   ]
  },
  {
   "cell_type": "code",
   "execution_count": 59,
   "metadata": {},
   "outputs": [],
   "source": [
    "#test.to_csv('../streamlit/data/processed/dvm/dvm_par_zone/metrics_evaluation_lstm_sarima.csv', encoding='utf-8', index=False)"
   ]
  },
  {
   "cell_type": "code",
   "execution_count": 10,
   "metadata": {},
   "outputs": [
    {
     "data": {
      "text/html": [
       "<div>\n",
       "<style scoped>\n",
       "    .dataframe tbody tr th:only-of-type {\n",
       "        vertical-align: middle;\n",
       "    }\n",
       "\n",
       "    .dataframe tbody tr th {\n",
       "        vertical-align: top;\n",
       "    }\n",
       "\n",
       "    .dataframe thead th {\n",
       "        text-align: right;\n",
       "    }\n",
       "</style>\n",
       "<table border=\"1\" class=\"dataframe\">\n",
       "  <thead>\n",
       "    <tr style=\"text-align: right;\">\n",
       "      <th></th>\n",
       "      <th>ze2020</th>\n",
       "      <th>nb_com</th>\n",
       "      <th>geometry</th>\n",
       "    </tr>\n",
       "    <tr>\n",
       "      <th>libze2020</th>\n",
       "      <th></th>\n",
       "      <th></th>\n",
       "      <th></th>\n",
       "    </tr>\n",
       "  </thead>\n",
       "  <tbody>\n",
       "    <tr>\n",
       "      <th>Caen</th>\n",
       "      <td>2804</td>\n",
       "      <td>380</td>\n",
       "      <td>POLYGON ((-0.36971 48.83553, -0.36889 48.84181...</td>\n",
       "    </tr>\n",
       "    <tr>\n",
       "      <th>Rouen</th>\n",
       "      <td>2815</td>\n",
       "      <td>300</td>\n",
       "      <td>POLYGON ((1.08333 49.20886, 1.08124 49.19948, ...</td>\n",
       "    </tr>\n",
       "    <tr>\n",
       "      <th>Dieppe-Caux maritime</th>\n",
       "      <td>2807</td>\n",
       "      <td>196</td>\n",
       "      <td>POLYGON ((1.59977 49.61966, 1.60356 49.6328, 1...</td>\n",
       "    </tr>\n",
       "    <tr>\n",
       "      <th>Evreux</th>\n",
       "      <td>2808</td>\n",
       "      <td>167</td>\n",
       "      <td>POLYGON ((1.06303 48.75897, 1.03521 48.7399, 1...</td>\n",
       "    </tr>\n",
       "    <tr>\n",
       "      <th>Cherbourg en Cotentin</th>\n",
       "      <td>2805</td>\n",
       "      <td>135</td>\n",
       "      <td>MULTIPOLYGON (((-1.47882 49.36495, -1.49757 49...</td>\n",
       "    </tr>\n",
       "  </tbody>\n",
       "</table>\n",
       "</div>"
      ],
      "text/plain": [
       "                      ze2020  nb_com  \\\n",
       "libze2020                              \n",
       "Caen                    2804     380   \n",
       "Rouen                   2815     300   \n",
       "Dieppe-Caux maritime    2807     196   \n",
       "Evreux                  2808     167   \n",
       "Cherbourg en Cotentin   2805     135   \n",
       "\n",
       "                                                                geometry  \n",
       "libze2020                                                                 \n",
       "Caen                   POLYGON ((-0.36971 48.83553, -0.36889 48.84181...  \n",
       "Rouen                  POLYGON ((1.08333 49.20886, 1.08124 49.19948, ...  \n",
       "Dieppe-Caux maritime   POLYGON ((1.59977 49.61966, 1.60356 49.6328, 1...  \n",
       "Evreux                 POLYGON ((1.06303 48.75897, 1.03521 48.7399, 1...  \n",
       "Cherbourg en Cotentin  MULTIPOLYGON (((-1.47882 49.36495, -1.49757 49...  "
      ]
     },
     "execution_count": 10,
     "metadata": {},
     "output_type": "execute_result"
    }
   ],
   "source": [
    "geo_zone_emploi.head()"
   ]
  },
  {
   "cell_type": "code",
   "execution_count": 44,
   "metadata": {},
   "outputs": [],
   "source": [
    "def build_map_zone_emploi(field):   \n",
    "\n",
    "    df = geo_zone_emploi\n",
    "\n",
    "    if field==\"nb_com\":\n",
    "        # Custom diverging color map (Green at 1, red below and above)\n",
    "        custom_colormap = LinearColormap(\n",
    "            colors=['red', 'orange', 'green','orange', 'red'],  # Red for <1, Green at 1, Yellow for >1\n",
    "            #vmin=df['ratio'].min(),  # Minimum value of your 'ratio' column\n",
    "            vmin=50,\n",
    "            vmax=400,\n",
    "            caption='Ratio (vert = meilleur)'\n",
    "        ).scale(50, 400)\n",
    "       \n",
    "        \n",
    "    # Create a folium map centered around your geometries\n",
    "    m = folium.Map(\n",
    "        location=[48.91, 0.71], \n",
    "        zoom_start=8, prefer_canvas=True)\n",
    "\n",
    "    # Function to style each feature (polygon) based on 'ratio' value\n",
    "    def style_function(feature):\n",
    "        field_value = feature['properties'][field]\n",
    "        return {\n",
    "            'fillColor': custom_colormap(field_value),  # Get color from colormap\n",
    "            'color': 'white',\n",
    "            'weight': 0.5,\n",
    "            'fillOpacity': 0.7,\n",
    "        }\n",
    "\n",
    "    # Add the GeoJson layer to the map, including the ratio for styling\n",
    "    folium.GeoJson(\n",
    "        df,\n",
    "        style_function=style_function,\n",
    "        #tooltip=folium.GeoJsonTooltip(fields=[df.index, field])  # Display additional fields in tooltips\n",
    "    ).add_to(m)\n",
    "\n",
    "    # Get the bounds (bounding box) of the GeoDataFrame to fit the map to the geometry\n",
    "    bounds = df.total_bounds  # [minx, miny, maxx, maxy]\n",
    "\n",
    "    # Fit the map to the bounds of the geometry (bbox)\n",
    "    m.fit_bounds([[bounds[1], bounds[0]], [bounds[3], bounds[2]]])\n",
    "\n",
    "    # Add the custom colormap to the map as a legend\n",
    "    custom_colormap.add_to(m)\n",
    "\n",
    "    return m"
   ]
  },
  {
   "cell_type": "code",
   "execution_count": 41,
   "metadata": {},
   "outputs": [
    {
     "data": {
      "text/html": [
       "<div>\n",
       "<style scoped>\n",
       "    .dataframe tbody tr th:only-of-type {\n",
       "        vertical-align: middle;\n",
       "    }\n",
       "\n",
       "    .dataframe tbody tr th {\n",
       "        vertical-align: top;\n",
       "    }\n",
       "\n",
       "    .dataframe thead th {\n",
       "        text-align: right;\n",
       "    }\n",
       "</style>\n",
       "<table border=\"1\" class=\"dataframe\">\n",
       "  <thead>\n",
       "    <tr style=\"text-align: right;\">\n",
       "      <th></th>\n",
       "      <th>ze2020</th>\n",
       "      <th>nb_com</th>\n",
       "      <th>geometry</th>\n",
       "    </tr>\n",
       "    <tr>\n",
       "      <th>libze2020</th>\n",
       "      <th></th>\n",
       "      <th></th>\n",
       "      <th></th>\n",
       "    </tr>\n",
       "  </thead>\n",
       "  <tbody>\n",
       "    <tr>\n",
       "      <th>Caen</th>\n",
       "      <td>2804</td>\n",
       "      <td>380</td>\n",
       "      <td>POLYGON ((-0.36971 48.83553, -0.36889 48.84181...</td>\n",
       "    </tr>\n",
       "    <tr>\n",
       "      <th>Rouen</th>\n",
       "      <td>2815</td>\n",
       "      <td>300</td>\n",
       "      <td>POLYGON ((1.08333 49.20886, 1.08124 49.19948, ...</td>\n",
       "    </tr>\n",
       "    <tr>\n",
       "      <th>Dieppe-Caux maritime</th>\n",
       "      <td>2807</td>\n",
       "      <td>196</td>\n",
       "      <td>POLYGON ((1.59977 49.61966, 1.60356 49.6328, 1...</td>\n",
       "    </tr>\n",
       "    <tr>\n",
       "      <th>Evreux</th>\n",
       "      <td>2808</td>\n",
       "      <td>167</td>\n",
       "      <td>POLYGON ((1.06303 48.75897, 1.03521 48.7399, 1...</td>\n",
       "    </tr>\n",
       "    <tr>\n",
       "      <th>Cherbourg en Cotentin</th>\n",
       "      <td>2805</td>\n",
       "      <td>135</td>\n",
       "      <td>MULTIPOLYGON (((-1.47882 49.36495, -1.49757 49...</td>\n",
       "    </tr>\n",
       "  </tbody>\n",
       "</table>\n",
       "</div>"
      ],
      "text/plain": [
       "                      ze2020  nb_com  \\\n",
       "libze2020                              \n",
       "Caen                    2804     380   \n",
       "Rouen                   2815     300   \n",
       "Dieppe-Caux maritime    2807     196   \n",
       "Evreux                  2808     167   \n",
       "Cherbourg en Cotentin   2805     135   \n",
       "\n",
       "                                                                geometry  \n",
       "libze2020                                                                 \n",
       "Caen                   POLYGON ((-0.36971 48.83553, -0.36889 48.84181...  \n",
       "Rouen                  POLYGON ((1.08333 49.20886, 1.08124 49.19948, ...  \n",
       "Dieppe-Caux maritime   POLYGON ((1.59977 49.61966, 1.60356 49.6328, 1...  \n",
       "Evreux                 POLYGON ((1.06303 48.75897, 1.03521 48.7399, 1...  \n",
       "Cherbourg en Cotentin  MULTIPOLYGON (((-1.47882 49.36495, -1.49757 49...  "
      ]
     },
     "execution_count": 41,
     "metadata": {},
     "output_type": "execute_result"
    }
   ],
   "source": [
    "m = build_map_zone_emploi('nb_com')   \n",
    "m.save(\"footprint.html\")"
   ]
  },
  {
   "cell_type": "code",
   "execution_count": 13,
   "metadata": {},
   "outputs": [
    {
     "data": {
      "text/html": [
       "<div>\n",
       "<style scoped>\n",
       "    .dataframe tbody tr th:only-of-type {\n",
       "        vertical-align: middle;\n",
       "    }\n",
       "\n",
       "    .dataframe tbody tr th {\n",
       "        vertical-align: top;\n",
       "    }\n",
       "\n",
       "    .dataframe thead th {\n",
       "        text-align: right;\n",
       "    }\n",
       "</style>\n",
       "<table border=\"1\" class=\"dataframe\">\n",
       "  <thead>\n",
       "    <tr style=\"text-align: right;\">\n",
       "      <th></th>\n",
       "      <th>ze</th>\n",
       "      <th>sarima_mape</th>\n",
       "      <th>sarima_rmse</th>\n",
       "      <th>sarima_ratio</th>\n",
       "      <th>lstm_bi_mape</th>\n",
       "      <th>lstm_bi_rmse</th>\n",
       "      <th>lstm_bi_ratio</th>\n",
       "    </tr>\n",
       "  </thead>\n",
       "  <tbody>\n",
       "    <tr>\n",
       "      <th>0</th>\n",
       "      <td>Rouen</td>\n",
       "      <td>0.102012</td>\n",
       "      <td>0.911455</td>\n",
       "      <td>1.065311</td>\n",
       "      <td>0.080070</td>\n",
       "      <td>0.765670</td>\n",
       "      <td>0.996410</td>\n",
       "    </tr>\n",
       "    <tr>\n",
       "      <th>1</th>\n",
       "      <td>Evry</td>\n",
       "      <td>0.261523</td>\n",
       "      <td>1.709426</td>\n",
       "      <td>1.227953</td>\n",
       "      <td>0.144739</td>\n",
       "      <td>1.451585</td>\n",
       "      <td>1.011895</td>\n",
       "    </tr>\n",
       "    <tr>\n",
       "      <th>2</th>\n",
       "      <td>Dreux</td>\n",
       "      <td>0.304497</td>\n",
       "      <td>2.461677</td>\n",
       "      <td>1.085874</td>\n",
       "      <td>0.460884</td>\n",
       "      <td>3.820606</td>\n",
       "      <td>1.176418</td>\n",
       "    </tr>\n",
       "    <tr>\n",
       "      <th>3</th>\n",
       "      <td>Beauvais</td>\n",
       "      <td>0.409314</td>\n",
       "      <td>4.704115</td>\n",
       "      <td>0.888497</td>\n",
       "      <td>0.530634</td>\n",
       "      <td>4.705886</td>\n",
       "      <td>1.153210</td>\n",
       "    </tr>\n",
       "    <tr>\n",
       "      <th>4</th>\n",
       "      <td>Paris</td>\n",
       "      <td>0.346383</td>\n",
       "      <td>1.872122</td>\n",
       "      <td>1.330149</td>\n",
       "      <td>0.106444</td>\n",
       "      <td>0.873496</td>\n",
       "      <td>0.981360</td>\n",
       "    </tr>\n",
       "  </tbody>\n",
       "</table>\n",
       "</div>"
      ],
      "text/plain": [
       "         ze  sarima_mape  sarima_rmse  sarima_ratio  lstm_bi_mape  \\\n",
       "0     Rouen     0.102012     0.911455      1.065311      0.080070   \n",
       "1      Evry     0.261523     1.709426      1.227953      0.144739   \n",
       "2     Dreux     0.304497     2.461677      1.085874      0.460884   \n",
       "3  Beauvais     0.409314     4.704115      0.888497      0.530634   \n",
       "4     Paris     0.346383     1.872122      1.330149      0.106444   \n",
       "\n",
       "   lstm_bi_rmse  lstm_bi_ratio  \n",
       "0      0.765670       0.996410  \n",
       "1      1.451585       1.011895  \n",
       "2      3.820606       1.176418  \n",
       "3      4.705886       1.153210  \n",
       "4      0.873496       0.981360  "
      ]
     },
     "execution_count": 13,
     "metadata": {},
     "output_type": "execute_result"
    }
   ],
   "source": [
    "df_metrics_dvm = pd.read_csv(f'{path_dvm}/metrics_evaluation_lstm_sarima.csv')\n",
    "df_metrics_dvm.head()"
   ]
  },
  {
   "cell_type": "code",
   "execution_count": 16,
   "metadata": {},
   "outputs": [
    {
     "data": {
      "application/vnd.plotly.v1+json": {
       "config": {
        "plotlyServerURL": "https://plot.ly"
       },
       "data": [
        {
         "boxpoints": "all",
         "jitter": 0.3,
         "name": "ratio moyen sarima",
         "type": "box",
         "y": [
          1.0653106223923443,
          1.227953002243107,
          1.0858738822480418,
          0.8884965602891007,
          1.3301491307139914,
          1.354918138213416,
          1.233836349837314,
          1.2119691406752555,
          1.3148392658415524,
          1.1965785403448763,
          0.8157403749627015,
          1.2119007580650645,
          1.049935640747561,
          1.08404409267639,
          1.1865106538947812,
          0.998295362884507,
          1.0510983769642297,
          0.9858432882617492,
          0.9035992882073972,
          0.811344241351314,
          1.0805910942381804,
          0.7682753330977039,
          1.0035387542932763,
          0.9283942829001472,
          0.8116910800694598,
          0.8703866688681642,
          0.9431048827043594,
          0.9835873466556936,
          0.7659744357957821,
          0.729575263603546,
          0.7725973414749147,
          0.7714627705413212,
          0.8991829572108189,
          0.853494938045037,
          0.7027890368329537,
          0.8080132111181425,
          0.8527506079238922,
          0.8147442393330747,
          0.934667962764615
         ]
        },
        {
         "boxpoints": "all",
         "jitter": 0.3,
         "name": "ratio moyen LSTM",
         "type": "box",
         "y": [
          0.9964099618929394,
          1.0118952616370336,
          1.1764180127984527,
          1.1532100234379077,
          0.9813604464793394,
          1.0250460778134511,
          0.9766879456552436,
          1.0333102019950997,
          1.0068671249713483,
          0.9360603675286354,
          1.1000407853351155,
          0.9733591655250448,
          1.0375310258510548,
          0.954023581132458,
          1.0364992226135283,
          1.0622321582381606,
          0.9934105200318364,
          0.9933751460624268,
          1.2305709354015608,
          1.1995783752000209,
          1.042981646103018,
          1.0843378737500415,
          1.07680974625709,
          1.0301071900053302,
          1.0516647409324833,
          1.0827866282622889,
          1.038224009390988,
          1.0112466102738786,
          1.0715468674583573,
          1.1146696555468194,
          1.090392995670603,
          1.0440906293638776,
          1.0760939641310223,
          1.0312430828789765,
          1.0120886277225625,
          1.0341133640258302,
          1.047176947294252,
          1.2036922004600297,
          1.016783334717937
         ]
        }
       ],
       "layout": {
        "template": {
         "data": {
          "bar": [
           {
            "error_x": {
             "color": "#2a3f5f"
            },
            "error_y": {
             "color": "#2a3f5f"
            },
            "marker": {
             "line": {
              "color": "#E5ECF6",
              "width": 0.5
             },
             "pattern": {
              "fillmode": "overlay",
              "size": 10,
              "solidity": 0.2
             }
            },
            "type": "bar"
           }
          ],
          "barpolar": [
           {
            "marker": {
             "line": {
              "color": "#E5ECF6",
              "width": 0.5
             },
             "pattern": {
              "fillmode": "overlay",
              "size": 10,
              "solidity": 0.2
             }
            },
            "type": "barpolar"
           }
          ],
          "carpet": [
           {
            "aaxis": {
             "endlinecolor": "#2a3f5f",
             "gridcolor": "white",
             "linecolor": "white",
             "minorgridcolor": "white",
             "startlinecolor": "#2a3f5f"
            },
            "baxis": {
             "endlinecolor": "#2a3f5f",
             "gridcolor": "white",
             "linecolor": "white",
             "minorgridcolor": "white",
             "startlinecolor": "#2a3f5f"
            },
            "type": "carpet"
           }
          ],
          "choropleth": [
           {
            "colorbar": {
             "outlinewidth": 0,
             "ticks": ""
            },
            "type": "choropleth"
           }
          ],
          "contour": [
           {
            "colorbar": {
             "outlinewidth": 0,
             "ticks": ""
            },
            "colorscale": [
             [
              0,
              "#0d0887"
             ],
             [
              0.1111111111111111,
              "#46039f"
             ],
             [
              0.2222222222222222,
              "#7201a8"
             ],
             [
              0.3333333333333333,
              "#9c179e"
             ],
             [
              0.4444444444444444,
              "#bd3786"
             ],
             [
              0.5555555555555556,
              "#d8576b"
             ],
             [
              0.6666666666666666,
              "#ed7953"
             ],
             [
              0.7777777777777778,
              "#fb9f3a"
             ],
             [
              0.8888888888888888,
              "#fdca26"
             ],
             [
              1,
              "#f0f921"
             ]
            ],
            "type": "contour"
           }
          ],
          "contourcarpet": [
           {
            "colorbar": {
             "outlinewidth": 0,
             "ticks": ""
            },
            "type": "contourcarpet"
           }
          ],
          "heatmap": [
           {
            "colorbar": {
             "outlinewidth": 0,
             "ticks": ""
            },
            "colorscale": [
             [
              0,
              "#0d0887"
             ],
             [
              0.1111111111111111,
              "#46039f"
             ],
             [
              0.2222222222222222,
              "#7201a8"
             ],
             [
              0.3333333333333333,
              "#9c179e"
             ],
             [
              0.4444444444444444,
              "#bd3786"
             ],
             [
              0.5555555555555556,
              "#d8576b"
             ],
             [
              0.6666666666666666,
              "#ed7953"
             ],
             [
              0.7777777777777778,
              "#fb9f3a"
             ],
             [
              0.8888888888888888,
              "#fdca26"
             ],
             [
              1,
              "#f0f921"
             ]
            ],
            "type": "heatmap"
           }
          ],
          "heatmapgl": [
           {
            "colorbar": {
             "outlinewidth": 0,
             "ticks": ""
            },
            "colorscale": [
             [
              0,
              "#0d0887"
             ],
             [
              0.1111111111111111,
              "#46039f"
             ],
             [
              0.2222222222222222,
              "#7201a8"
             ],
             [
              0.3333333333333333,
              "#9c179e"
             ],
             [
              0.4444444444444444,
              "#bd3786"
             ],
             [
              0.5555555555555556,
              "#d8576b"
             ],
             [
              0.6666666666666666,
              "#ed7953"
             ],
             [
              0.7777777777777778,
              "#fb9f3a"
             ],
             [
              0.8888888888888888,
              "#fdca26"
             ],
             [
              1,
              "#f0f921"
             ]
            ],
            "type": "heatmapgl"
           }
          ],
          "histogram": [
           {
            "marker": {
             "pattern": {
              "fillmode": "overlay",
              "size": 10,
              "solidity": 0.2
             }
            },
            "type": "histogram"
           }
          ],
          "histogram2d": [
           {
            "colorbar": {
             "outlinewidth": 0,
             "ticks": ""
            },
            "colorscale": [
             [
              0,
              "#0d0887"
             ],
             [
              0.1111111111111111,
              "#46039f"
             ],
             [
              0.2222222222222222,
              "#7201a8"
             ],
             [
              0.3333333333333333,
              "#9c179e"
             ],
             [
              0.4444444444444444,
              "#bd3786"
             ],
             [
              0.5555555555555556,
              "#d8576b"
             ],
             [
              0.6666666666666666,
              "#ed7953"
             ],
             [
              0.7777777777777778,
              "#fb9f3a"
             ],
             [
              0.8888888888888888,
              "#fdca26"
             ],
             [
              1,
              "#f0f921"
             ]
            ],
            "type": "histogram2d"
           }
          ],
          "histogram2dcontour": [
           {
            "colorbar": {
             "outlinewidth": 0,
             "ticks": ""
            },
            "colorscale": [
             [
              0,
              "#0d0887"
             ],
             [
              0.1111111111111111,
              "#46039f"
             ],
             [
              0.2222222222222222,
              "#7201a8"
             ],
             [
              0.3333333333333333,
              "#9c179e"
             ],
             [
              0.4444444444444444,
              "#bd3786"
             ],
             [
              0.5555555555555556,
              "#d8576b"
             ],
             [
              0.6666666666666666,
              "#ed7953"
             ],
             [
              0.7777777777777778,
              "#fb9f3a"
             ],
             [
              0.8888888888888888,
              "#fdca26"
             ],
             [
              1,
              "#f0f921"
             ]
            ],
            "type": "histogram2dcontour"
           }
          ],
          "mesh3d": [
           {
            "colorbar": {
             "outlinewidth": 0,
             "ticks": ""
            },
            "type": "mesh3d"
           }
          ],
          "parcoords": [
           {
            "line": {
             "colorbar": {
              "outlinewidth": 0,
              "ticks": ""
             }
            },
            "type": "parcoords"
           }
          ],
          "pie": [
           {
            "automargin": true,
            "type": "pie"
           }
          ],
          "scatter": [
           {
            "fillpattern": {
             "fillmode": "overlay",
             "size": 10,
             "solidity": 0.2
            },
            "type": "scatter"
           }
          ],
          "scatter3d": [
           {
            "line": {
             "colorbar": {
              "outlinewidth": 0,
              "ticks": ""
             }
            },
            "marker": {
             "colorbar": {
              "outlinewidth": 0,
              "ticks": ""
             }
            },
            "type": "scatter3d"
           }
          ],
          "scattercarpet": [
           {
            "marker": {
             "colorbar": {
              "outlinewidth": 0,
              "ticks": ""
             }
            },
            "type": "scattercarpet"
           }
          ],
          "scattergeo": [
           {
            "marker": {
             "colorbar": {
              "outlinewidth": 0,
              "ticks": ""
             }
            },
            "type": "scattergeo"
           }
          ],
          "scattergl": [
           {
            "marker": {
             "colorbar": {
              "outlinewidth": 0,
              "ticks": ""
             }
            },
            "type": "scattergl"
           }
          ],
          "scattermapbox": [
           {
            "marker": {
             "colorbar": {
              "outlinewidth": 0,
              "ticks": ""
             }
            },
            "type": "scattermapbox"
           }
          ],
          "scatterpolar": [
           {
            "marker": {
             "colorbar": {
              "outlinewidth": 0,
              "ticks": ""
             }
            },
            "type": "scatterpolar"
           }
          ],
          "scatterpolargl": [
           {
            "marker": {
             "colorbar": {
              "outlinewidth": 0,
              "ticks": ""
             }
            },
            "type": "scatterpolargl"
           }
          ],
          "scatterternary": [
           {
            "marker": {
             "colorbar": {
              "outlinewidth": 0,
              "ticks": ""
             }
            },
            "type": "scatterternary"
           }
          ],
          "surface": [
           {
            "colorbar": {
             "outlinewidth": 0,
             "ticks": ""
            },
            "colorscale": [
             [
              0,
              "#0d0887"
             ],
             [
              0.1111111111111111,
              "#46039f"
             ],
             [
              0.2222222222222222,
              "#7201a8"
             ],
             [
              0.3333333333333333,
              "#9c179e"
             ],
             [
              0.4444444444444444,
              "#bd3786"
             ],
             [
              0.5555555555555556,
              "#d8576b"
             ],
             [
              0.6666666666666666,
              "#ed7953"
             ],
             [
              0.7777777777777778,
              "#fb9f3a"
             ],
             [
              0.8888888888888888,
              "#fdca26"
             ],
             [
              1,
              "#f0f921"
             ]
            ],
            "type": "surface"
           }
          ],
          "table": [
           {
            "cells": {
             "fill": {
              "color": "#EBF0F8"
             },
             "line": {
              "color": "white"
             }
            },
            "header": {
             "fill": {
              "color": "#C8D4E3"
             },
             "line": {
              "color": "white"
             }
            },
            "type": "table"
           }
          ]
         },
         "layout": {
          "annotationdefaults": {
           "arrowcolor": "#2a3f5f",
           "arrowhead": 0,
           "arrowwidth": 1
          },
          "autotypenumbers": "strict",
          "coloraxis": {
           "colorbar": {
            "outlinewidth": 0,
            "ticks": ""
           }
          },
          "colorscale": {
           "diverging": [
            [
             0,
             "#8e0152"
            ],
            [
             0.1,
             "#c51b7d"
            ],
            [
             0.2,
             "#de77ae"
            ],
            [
             0.3,
             "#f1b6da"
            ],
            [
             0.4,
             "#fde0ef"
            ],
            [
             0.5,
             "#f7f7f7"
            ],
            [
             0.6,
             "#e6f5d0"
            ],
            [
             0.7,
             "#b8e186"
            ],
            [
             0.8,
             "#7fbc41"
            ],
            [
             0.9,
             "#4d9221"
            ],
            [
             1,
             "#276419"
            ]
           ],
           "sequential": [
            [
             0,
             "#0d0887"
            ],
            [
             0.1111111111111111,
             "#46039f"
            ],
            [
             0.2222222222222222,
             "#7201a8"
            ],
            [
             0.3333333333333333,
             "#9c179e"
            ],
            [
             0.4444444444444444,
             "#bd3786"
            ],
            [
             0.5555555555555556,
             "#d8576b"
            ],
            [
             0.6666666666666666,
             "#ed7953"
            ],
            [
             0.7777777777777778,
             "#fb9f3a"
            ],
            [
             0.8888888888888888,
             "#fdca26"
            ],
            [
             1,
             "#f0f921"
            ]
           ],
           "sequentialminus": [
            [
             0,
             "#0d0887"
            ],
            [
             0.1111111111111111,
             "#46039f"
            ],
            [
             0.2222222222222222,
             "#7201a8"
            ],
            [
             0.3333333333333333,
             "#9c179e"
            ],
            [
             0.4444444444444444,
             "#bd3786"
            ],
            [
             0.5555555555555556,
             "#d8576b"
            ],
            [
             0.6666666666666666,
             "#ed7953"
            ],
            [
             0.7777777777777778,
             "#fb9f3a"
            ],
            [
             0.8888888888888888,
             "#fdca26"
            ],
            [
             1,
             "#f0f921"
            ]
           ]
          },
          "colorway": [
           "#636efa",
           "#EF553B",
           "#00cc96",
           "#ab63fa",
           "#FFA15A",
           "#19d3f3",
           "#FF6692",
           "#B6E880",
           "#FF97FF",
           "#FECB52"
          ],
          "font": {
           "color": "#2a3f5f"
          },
          "geo": {
           "bgcolor": "white",
           "lakecolor": "white",
           "landcolor": "#E5ECF6",
           "showlakes": true,
           "showland": true,
           "subunitcolor": "white"
          },
          "hoverlabel": {
           "align": "left"
          },
          "hovermode": "closest",
          "mapbox": {
           "style": "light"
          },
          "paper_bgcolor": "white",
          "plot_bgcolor": "#E5ECF6",
          "polar": {
           "angularaxis": {
            "gridcolor": "white",
            "linecolor": "white",
            "ticks": ""
           },
           "bgcolor": "#E5ECF6",
           "radialaxis": {
            "gridcolor": "white",
            "linecolor": "white",
            "ticks": ""
           }
          },
          "scene": {
           "xaxis": {
            "backgroundcolor": "#E5ECF6",
            "gridcolor": "white",
            "gridwidth": 2,
            "linecolor": "white",
            "showbackground": true,
            "ticks": "",
            "zerolinecolor": "white"
           },
           "yaxis": {
            "backgroundcolor": "#E5ECF6",
            "gridcolor": "white",
            "gridwidth": 2,
            "linecolor": "white",
            "showbackground": true,
            "ticks": "",
            "zerolinecolor": "white"
           },
           "zaxis": {
            "backgroundcolor": "#E5ECF6",
            "gridcolor": "white",
            "gridwidth": 2,
            "linecolor": "white",
            "showbackground": true,
            "ticks": "",
            "zerolinecolor": "white"
           }
          },
          "shapedefaults": {
           "line": {
            "color": "#2a3f5f"
           }
          },
          "ternary": {
           "aaxis": {
            "gridcolor": "white",
            "linecolor": "white",
            "ticks": ""
           },
           "baxis": {
            "gridcolor": "white",
            "linecolor": "white",
            "ticks": ""
           },
           "bgcolor": "#E5ECF6",
           "caxis": {
            "gridcolor": "white",
            "linecolor": "white",
            "ticks": ""
           }
          },
          "title": {
           "x": 0.05
          },
          "xaxis": {
           "automargin": true,
           "gridcolor": "white",
           "linecolor": "white",
           "ticks": "",
           "title": {
            "standoff": 15
           },
           "zerolinecolor": "white",
           "zerolinewidth": 2
          },
          "yaxis": {
           "automargin": true,
           "gridcolor": "white",
           "linecolor": "white",
           "ticks": "",
           "title": {
            "standoff": 15
           },
           "zerolinecolor": "white",
           "zerolinewidth": 2
          }
         }
        }
       }
      }
     },
     "metadata": {},
     "output_type": "display_data"
    }
   ],
   "source": [
    "\n",
    "import plotly.graph_objects as go\n",
    "\n",
    "fig = go.Figure()\n",
    "fig.add_trace(go.Box(y=df_metrics_dvm['sarima_ratio'],  name=\"ratio moyen sarima\"))\n",
    "fig.add_trace(go.Box(y=df_metrics_dvm['lstm_bi_ratio'], name=\"ratio moyen LSTM\"))\n",
    "fig.update_traces(boxpoints='all', jitter=0.3)\n",
    "fig.show()\n",
    "\n"
   ]
  }
 ],
 "metadata": {
  "kernelspec": {
   "display_name": "base",
   "language": "python",
   "name": "python3"
  },
  "language_info": {
   "codemirror_mode": {
    "name": "ipython",
    "version": 3
   },
   "file_extension": ".py",
   "mimetype": "text/x-python",
   "name": "python",
   "nbconvert_exporter": "python",
   "pygments_lexer": "ipython3",
   "version": "3.12.4"
  }
 },
 "nbformat": 4,
 "nbformat_minor": 2
}
